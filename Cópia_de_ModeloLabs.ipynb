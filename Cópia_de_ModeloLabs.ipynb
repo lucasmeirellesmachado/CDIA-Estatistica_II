{
  "nbformat": 4,
  "nbformat_minor": 0,
  "metadata": {
    "colab": {
      "provenance": []
    },
    "kernelspec": {
      "name": "ir",
      "display_name": "R"
    },
    "language_info": {
      "name": "R"
    }
  },
  "cells": [
    {
      "cell_type": "markdown",
      "source": [
        "# Instruções Obrigatórias"
      ],
      "metadata": {
        "id": "xfSJWY_rs8uU"
      }
    },
    {
      "cell_type": "markdown",
      "source": [
        "1. Faça uma cópia deste Notebook (Arquivo/Salvar uma Cópia no Drive) antes de iniciar qualquer atividade.\n",
        "\n",
        "<div>\n",
        "  <img src=\"https://github.com/benilton/cursos/blob/main/imgs/colab-copy-template.png?raw=true\" width=\"50%\">\n",
        "</div>\n",
        "\n",
        "2. Em seguida, execute o código disponibilizado abaixo. Este passo deve durar cerca de 1 minuto. Basta clicar no \"botão de play\" e aguardar.\n",
        "\n",
        "<div>\n",
        "  <img src=\"https://github.com/benilton/cursos/blob/main/imgs/run-setup.png?raw=true\" width=\"90%\">\n",
        "</div>\n",
        "\n",
        "3. Ao fim do processo, uma série de resultados de configuração aparecerá e você poderá ignorá-las completamente.\n",
        "\n",
        "<div>\n",
        "  <img src=\"https://github.com/benilton/cursos/blob/main/imgs/setup-results.png?raw=true\" width=\"90%\">\n",
        "</div>"
      ],
      "metadata": {
        "id": "78r3DrTomdQQ"
      }
    },
    {
      "cell_type": "code",
      "source": [
        "source(\"https://raw.githubusercontent.com/benilton/cursos/refs/heads/main/rcode/setup_r2u.R\")"
      ],
      "metadata": {
        "id": "APEiMQBbqZRS",
        "collapsed": true,
        "colab": {
          "base_uri": "https://localhost:8080/"
        },
        "outputId": "32099c23-cbb0-4c99-d125-898afdf8633a"
      },
      "execution_count": null,
      "outputs": [
        {
          "output_type": "stream",
          "name": "stdout",
          "text": [
            "51 packages can be upgraded. Run 'apt list --upgradable' to see them.Reading package lists...\n",
            "Building dependency tree...\n",
            "Reading state information...\n",
            "ca-certificates is already the newest version (20240203~22.04.1).\n",
            "curl is already the newest version (7.81.0-1ubuntu1.19).\n",
            "git is already the newest version (1:2.34.1-1ubuntu1.11).\n",
            "0 upgraded, 0 newly installed, 0 to remove and 51 not upgraded.51 packages can be upgraded. Run 'apt list --upgradable' to see them.\n",
            "Reading package lists...\n",
            "Building dependency tree...\n",
            "Reading state information...\n",
            "ca-certificates is already the newest version (20240203~22.04.1).\n",
            "curl is already the newest version (7.81.0-1ubuntu1.19).\n",
            "0 upgraded, 0 newly installed, 0 to remove and 51 not upgraded.\n",
            "51 packages can be upgraded. Run 'apt list --upgradable' to see them.\n",
            "Reading package lists...\n",
            "Building dependency tree...\n",
            "Reading state information...\n",
            "ca-certificates is already the newest version (20240203~22.04.1).\n",
            "gnupg is already the newest version (2.2.27-3ubuntu2.1).\n",
            "wget is already the newest version (1.21.2-2ubuntu1.1).\n",
            "0 upgraded, 0 newly installed, 0 to remove and 51 not upgraded.\n",
            "-----BEGIN PGP PUBLIC KEY BLOCK-----\n",
            "\n",
            "mQINBFM+sY8BEADA70T+U0/2WNjOTLvytuXLvBC4vgA8hYvOaBS1cL3d8lu4mwr4\n",
            "W84/6p4v/mXle/0eIO2D2g+XfK72ZHZxpS+bb7yPxrkCDLGxwUd/khtTJHSbbKFo\n",
            "J73AsABflMe+8qv+E74+QTiXErTCNioFRz18sa0EvOnEAiokau6TZVYY2z9YjBNI\n",
            "yEjTi+z+g8c1RL6VmrFEpTicTpafOLbkRyw0VKnAKG7Ytp3Ksc1G9/IAoKw3Q9La\n",
            "0DJb5iX6hyB7+PNid6htK4LtPKZ2dNSrnRvNNkjj5BgcM2AT1hmxbzHNzIVmPoKA\n",
            "CQFrkdjog3/PcyjdtZG7cfoSDXrbIAZeAa2ngLv9C/DJatVDd6maPOe66gLo7+As\n",
            "ErMvO9vtiouqLdurW+Lhx0jFW9Ca3g1taLfbSDyS3X1mOGWcisbQvBqkIuoDQTeS\n",
            "V4Z04wrwTZ1HtweKG/s5fmPtZNGWVI5YNRLIwdmbGzFTMPu2XTAOd+xSK2H+46Kh\n",
            "Sh4kFeP6pBh5No4ET1MzIuDAHwl0J+mbWKPH4tIosYkcVmvEiNY5Ooq8v0I1svc3\n",
            "ZYndlXGnqlrICj6ftEf4Mxvl8ZWLD6svNCWF/r/a7CecPgVkcHwY+zBEany/Ndfk\n",
            "kA17mg5tEfksIXO/j71EdpKHdUKfysqOKgdkw0I6UGCScJlULy+jc2loTQARAQAB\n",
            "tCJEaXJrIEVkZGVsYnVldHRlbCA8ZWRkQGRlYmlhbi5vcmc+iEYEEBECAAYFAlM+\n",
            "tfoACgkQCZSR95Gw07dziACdEOBDnlXZm4Zjce4YeEKJD3e4SPsAn2SjogZ7NYAT\n",
            "zMjxcaLc7pBZ3ht+iEYEEBECAAYFAlQHRekACgkQFShl+2J8z5W7xQCgnggW4HDA\n",
            "2okBJug4eGNmrQ1LGccAnRTzYB/eEQGs3QxcMxJuSWJtkHAiiEYEEBEIAAYFAlNA\n",
            "KMIACgkQ2wQKE6PXubwz+QCfT1ef1nUaBWAC+x1y2ln4X/2R1T8AoMt4stwpK+C1\n",
            "sc/yy6WM0Asid+G7iEYEEBEIAAYFAlNcPjwACgkQebASZpNwHu/xRQCfQsq8U23p\n",
            "gVct+Au+p/VkqHMG618AnilNqrxGrA+QcsmKLenpz2qmhUuAiEYEEBEIAAYFAlSY\n",
            "jREACgkQMFbw70wtPvrQNACffFe0z0aDJLuSVwmvdSDjpuTqzkkAnR97tE15odhz\n",
            "BSFW8v+RlOYzRvH5iEYEEBEIAAYFAlSwNn8ACgkQS/29pmBF+x71/wCfTd74iN5X\n",
            "klyQDpgFhZSu3H9UiQwAnikNt8RuzOyEM2shM+TT9VBelCAaiQIcBBABAgAGBQJU\n",
            "C+BkAAoJEJzRfVgHwHE6PMwP/i+0r2zo2U5yDobYISwH+qyTlDOozZUpcLbAzmgd\n",
            "T9z4DB/LRfjvuM8kqxRGt4i1HtmWzO2mOznW/fay4V+zjKduENqOZ1LldJRwwcyB\n",
            "ohUD1d7hUmnS48J8+1UFqJ4Bwn5vQrSlNY0BrDaaOc3gokU6SaI6yodj5f6zjEWK\n",
            "lCiDSggCxFxV2FYCaZEt1/HRYV38K2UDjH9kPLa9or8/YpL+kHxOz+BKqaHEcP2O\n",
            "eRKn1216Q+WHBCIWE6aYnAT79nbwDR8AiRe5wAyuq3KzMcaqqrXDJdkO5elAGFSg\n",
            "1mB1qeIcS04esh9AUYXXkBgrQeZQ3YTzvDqRkXceLU2u/8RyUhNuR0HisY9lal12\n",
            "9sjeoiu9VYQE7rn4Pfgl/vcJp+Lo0i/fwIWmTO94cG8ait/5QLFroC1B6wjaCBwZ\n",
            "ytGnmAdJENQeQv/iZyCmygqCLw0Suqe2yh+XdM6AzEd9pZBH6gxMpz+8G0KX8F+e\n",
            "k9vkDzYFDnPUxrSRMkpXGAjSIG+mw/aHgVw2CyWlQ3ZkKHBn8UTChNni4Ms5VgwM\n",
            "NEzg8Qon60lDLtILX7b3MK2r3Rpilv2iZykGijZFMHT1PHOjQpW3zssaS3pqMUgZ\n",
            "TyJx33fPxQTJiT9tboaZEiyUYNYIBDfNFaHFU9k0ZrrxzGXiCIrx/BXfVBnWFMUp\n",
            "frIaiQIcBBABCAAGBQJTQCk2AAoJEMn8Qbj5jGbPYdcQAIKMzds2YKl9EusEpGPw\n",
            "vlaxCPOZ2koQno2zZEKmGg+vjAxwDIIrnQ2D7RDxXa7ed/id22saQ0JCYXAQGPh8\n",
            "gfaF1D0qDk0NnVzAnQbWfTeqvaP8MPx4lI1BQFvCdQVgwnThta4adBrgTX1nID64\n",
            "x1yi/9UVQrOKpFd9Xthieexbhjul5KjDUn4tTLucQDgrrbVHs2k4KS+MmPxL9nHQ\n",
            "W3XOD7y2+Z1sutxE7vxTKfl2ADFTF7HQ2bEdgQZmRnXStmPhu1lpDi74t9k7GI21\n",
            "Qlsr9GoxYIwIZ1q3MLBrCR590Gl6t2TMp1ZH0YTFTrm1C9fKZZDVngCcw74Auath\n",
            "galOkgBeyH8Ghy2ZBnhFjh/azmu8xWE6LPOemiYaYLWAv/PVJGSrgTdtswT7AMgm\n",
            "ytF3Z1suTLxec0yc7QaKDzyIikhTxw7qAcLz2bcC3DlWilfXWnsQmXrChVfGrv/R\n",
            "JntvN26PKwEIVZXf49w5cfOjuPj0dp9t2HIIkEm9KEF3xPbmeyWidJktMrXiDskg\n",
            "GNbu9HZtHyO2vAy3tQGlG/4/1++kkMwowDXC27zY1rMjCYtzVog7D4KaYx/IwT3H\n",
            "gj6ANDOiiNjnc6i2E91e312TeFyZdj68+8EXp3G0wlQm1WU8bddWm2m5Zbb3+s/b\n",
            "WZeT8QtspPsL6DLbW1P+YdXYiQIcBBABCAAGBQJTXD1cAAoJEFipIs3bXbCObugP\n",
            "/3lDWzkfQeDrmHUTO1TVkDxh7Exw54ob7Yn+n/Q/btkaDzuMVWglFCZBKaI3akXw\n",
            "ROmxTp2Re9Xir4brN4Izqfl6dfwP5fmslZkwSboKShHaHmHCf9Hn2C/5dY0rysqG\n",
            "MfczzaX1tWsGgY57hxF0Xik1ZQaeOEfgQ3Jd8XshznIUwA2Kk1tkZdGXrDG+wIbE\n",
            "L5S9ns98rzggg5KCKGXXWXCPEP5wZIoy+Trf/nO2eazW2i49xhdybH0cp4ipA7QA\n",
            "JKCekYxK3nY+P72E/joBFSD2bAes+pFwWsp03dh74FErzQ4EqO0GIXdFkfE/ZPYz\n",
            "L671lLHfXO0PHVhIqMXE2kq1mSgvPSF24w1rYmmC9gsFlH11GsilcJn9UjCzGuWr\n",
            "Ow0ZCUP6U1c87XZPdKt3QRTw/3yyjndXDbE2iQ3UvyJsioWv3cP+ET6HVIkoMsui\n",
            "XnuOpYqHOI8LJjoJSQiYAY0TxrgGrahHzuKXMsSnTEAt49LWilv5NGiXcvrbcqNu\n",
            "fDKnN2QS63ZuOnmi5otB4QsAx74Efy/76giYwdTLtP3AWTniiqbXdHIj9Cvxnhjp\n",
            "J5dFA+MMbNGM7jw9j/zep7JE7fPDRdlAhUn/nmtdaC3ze03tBcWD+9ez5W3i3hPL\n",
            "EltTvllfX9PS84WFmAhhWcmDYXd1wK4FxPbZfbRhm4MciQIcBBABCAAGBQJUlJjw\n",
            "AAoJEApQQvSXUQMcw+4P/jKffAptsSxH2rB6G7hROZDJFowGq5YcpONyC3/CQn2w\n",
            "HCqjTk9YaL0AXycvayqUm6fEjfNg+9org8XnhRyzY/+C67SHiDDjOLGrHOwxMdB+\n",
            "0yxZT7WkIBNO/qWzkpIGahho96TKKck1k9eHr7Xd0H6roQ59fXhyor5QRhVZNKYZ\n",
            "G7DGd4wNicWPiujyNhAii7LVaMta7+nIVvQwhS0sJROYZigPCSJKtNxPVMg8bDm2\n",
            "53JXCeRKWjjrtGlRfbCyheBqf33sANbzUZ6urxYvhGtusev+XUfT9qtCm/ZkcbCh\n",
            "0H92oe6S3RrZePmzwTOxTmKFXu6N798aee8H5orCwHpQ54knSu2yesAfBN78JKsy\n",
            "UdncSNg2x/+1T6Ya/hnhgnO9hJZJdK2wr+5IqWTLq+BIXAchhPUnszxzIEKn5Q3t\n",
            "i9DisflEELGDXQ/SNoWPIaG1cqG4m+98ndaNPqH934AdbXzcX8Rq6qE1zC5rgKcS\n",
            "Khzve0vVLkRrkbi9e/1dgwuORCSUeGAgScTuBWGeEoK3MLZiuZ+gM3D0jrCgbeYs\n",
            "aAKM8ouHsgIifwvxOENy8DqXkxbpwvq9zvvLF+cNMnVvmGWqwxMBXo0Le3CMQhE3\n",
            "hmpayPEDa0t8UsnA8qGXzfK0GCQX/3lAOWkZ4A3A5kRGLAyiiOj9gpwfrlFpRLDl\n",
            "iQIcBBABCAAGBQJUsDXwAAoJEL+ij4ufyK5zp6AQALSRMgYN8glULuXpUnnjOkrj\n",
            "7By5eAzixzemkbbfWjHg4YteBX8EZviaJi7dTu71rDEFWUiyux87diAY6KwUt9SS\n",
            "axQhQ4fOeAyP/ZfFforV9ZeD/hcpzVZc1/A93THJ/BWLG08bgh9sXanJLAQm6YU0\n",
            "hT4JgGv3y8yso9jHhlFFNkKK2lij/uea1Fa061XueTry8vn7g5oblm9v60s/zG+v\n",
            "jgksRbojMKYYF0j/dYF8gO32ZBDAnCSgWJb8HPbLwbcJDfAmT3wKuNXbCf+76wr/\n",
            "0LDZHXxJU5d7xhpbjO4W3FeGqHKwobk1Bcm13W6MT46femmabk9KrlBq2yNVdpyn\n",
            "IB8lmGSFcJodEulZM8YCHuSGxzy9wcQ+ScFtLRMxWbmqQhB0vj1UF1BQ0SxvkMd/\n",
            "IcyWATX4OERNdL0YvvSs/zAywIf6ku7dbMwWkXHYr0rwbibWGWBZNGFFMZzg49+B\n",
            "wFBKELxFAWgI1z37iLfwlcqNDfUVw2sb/r+6uVzPiWvhuRtZOIShatZfgwXBTSua\n",
            "l7fgRwVoIeLCHEEBSP5GX4zN4Ips3DN+tgOaxUYtXR+NVnb7tScgcMZFZfI2B/WI\n",
            "TfOw8LAvsV6hGzRh4xaWYuX0Q9OMd4EMm5GYzDELZ3zOyisv/SFHgxd4swJDHNbn\n",
            "BNU2Y2/TJRsMYXtBXJVPiQIzBBABCAAdFiEEfWrbdQ+RCFWJSEvmd8DHXntlCAgF\n",
            "AlitnkoACgkQd8DHXntlCAiwIA//TR5mF2eS7jNLnUpWAJaPfoOB+GKcIULo1czW\n",
            "MSRogTgB2uK/pvmg30KuP097P0pPRTRm9RMYYzfXwPj/DmU1qNonLc4Sduf8BKBX\n",
            "APTrszqNRVZma6ux01wtS9TQvSB4QfJ6jn+R2NrYXjGkOFrOh+DAeutS7xpW0rrN\n",
            "bJL4jYjUV1cDqeED/2Ur3miHxkUwFpYT9SkYm3uBdztqQKzdtYlZcUgN1qFu8zhH\n",
            "zE48cz6RGvFU3bQU6cvn6X0GG6oFR+i7In4BrR1xwyK22ZDJ5Ovf8WDGeR435SvH\n",
            "821rIocLN8Wmg64KjWwdW6p1QsI8NXz4a2oI2yk1q+bzX5xoEXLv6BS15yin+c7h\n",
            "BW0Ho4ORI7ugwBoLJJSx9wPyT5QQbo5IhapIwUsHAN13Ab+IokWNC5kQZYdde8GZ\n",
            "ksERDXG9TZdSEYNAxLcyU06bzQ+Flc0HcHB10kAwfIEcfuh/B29324dqSLaOWBTv\n",
            "LUgc1DDGU6dk6pwACJoQKYBLsDmrp4B3iq76hJL1NR6Mwg8lK5ius6ORjOl8neh9\n",
            "7e0KuSeL0QR1Gnq1FB80agv/KAB7k5VYVOL2oDtlwEKNHOU11A9S+c5Q78CsXWs2\n",
            "ECV5CGc2m+Aem0oJGXnq6ewejANHUXq2CeImFwQITjZ2dbykTf73Z1ZV/EP8yiEE\n",
            "5284/tOJAjsEEwECACUCGwMGCwkIBwMCBhUIAgkKCwQWAgMBAh4BAheABQJTPrNW\n",
            "AhkBAAoJEKFIn+KrmaIa0N8QAK3dhqGAn164EHI9c9XPlcSMePHqrLibIXQSN9Cp\n",
            "QCHGmeIoBBtpUrJlxKKvE+kdIYtysduMGT8dJlBjE1+LgXbF0jUrD7aRaDGAo2zX\n",
            "gnDiJmjaKrIcHuIm864O9iQcAeSz2tP9RlLoLQScgBCNJ+CaMXwlZwlLM3T4QNPt\n",
            "F7zvAiBinMwDV5iXxs9aVn4cE3+cs6lZ9XckYCHwDD1454sPqeK8nztnj0Z1exS6\n",
            "hnYzNBcjYcdLvTnyM4jM73BAl5etU3qwXtnqQ53BcIF4yNJygjZubIZQB8ZU7b4e\n",
            "NWZ4BrPWnxKagosKSrABcD8CBhoL9a4CACqmyF9Clc/rdTv0zJNk9Wr/L9qpcTP1\n",
            "bZBUTfY3zO5V/zWsIQhQxx8mLUs7yKj8rO1sg7crDxqXnOCSa6IB88X+EuU99ot3\n",
            "1C7WwknrR3mtUTW/8Vimh7eXEXU5e+91ahBFbq2mFKcrzfRTbDFqTPeCaXtNHFRq\n",
            "Z4ktnJTRN6FVMP/RJfzRORcVBfKPT2lb1fmgAXeSc0su4N61tIl+4jbs1/7bCHwz\n",
            "zWscEKTsThKGY8WqY+DfzY6eyny0SPD/nPQd2bXwTiTXFeuF0jKeN/LN2sG8tl10\n",
            "Z+6qnwHYx/65MpHN2SVrYnMA3S3iFhfc8IYOIjU4ZktdJOh3JIrHGxMEE5BC94nA\n",
            "1gKeiQI4BBMBAgAiBQJTPrGPAhsDBgsJCAcDAgYVCAIJCgsEFgIDAQIeAQIXgAAK\n",
            "CRChSJ/iq5miGlpPD/9+AUE+hDYD1dfL9a5Iz4yNGjBM+LUCbx4zSbU9Xa4RcXPL\n",
            "5PoYXmzWV8jx5Z0IMMFt+nYOeSHW/52BeD2U+W7otie1J8YV+7AUmjXtopzKsWWB\n",
            "A/BTZ33AVdw3jmmxIy3+4RrK54DDp3FMmadeshUrOmgN0mVAuXE5bQbA9lQOx+QP\n",
            "ImmoRH4HCL+Eg1qVbeEXWK2fTPNZUwogPd5gUc6L+BDT00PibL+L4z5K5cmnBRVP\n",
            "/gIrmBYWkfkYIICym+cSZ+nVfmY2OUL/VyuwIBGBnx58mbDxisEl2i5hmRGevTrR\n",
            "/M5xzjqxucrKrVv6drQCHkYy/X0bSScShv2M2Jbb5puEZedkZaogUeEozsdmh3pO\n",
            "4WxCw7BrXmP7Fug4dogb8djvmLqNcJ0F47FCNOeYb7hKi8NbWcQwMdCEUb6212J4\n",
            "rjQWNDC8nf0iU32K2F/DXrlJeSMzCXeWhz8XoyqbBbdFC3VhyDiXybZEceYKdmYH\n",
            "xBbEpKeIeeLPsB/LOj5EJJEz+dJXB7w8jeFjqTCQa65PNU9AF3+P0yp6sqki8rBv\n",
            "6WX68UvUuSFOarPYxG1vpaEnMiTVdJ9J1e78eXz9hEHKTigFJ4CAMQ8qgp2RTesq\n",
            "p80tBjmDqAcL9yovtVC2iXVC9zJLbI0IX6OHa0uDIpjWJ2YMhty018gqm0ezeokC\n",
            "MwQQAQgAHRYhBAu+7vBk6Uq+hDJYtHVBz6r8NerPBQJZ4DXKAAoJEHVBz6r8NerP\n",
            "34gP/iLqLDAzMRGGFQ4UDf17eRF3WsYcnSttwv9Pn7xQ3fWrhrKhGGGTNfaKQT4w\n",
            "N3DTAojKlqHPdBkamsGbNWYlHsY3b/3Z/NRc+ZnRxVyFwHC9s7Amitk+FWohbFR3\n",
            "goqQazZGIootMGxZYaP7806ePdTCmCmTCriP9KMxvA8WlLISWUYl/JILkWgdaPCP\n",
            "ZHXWYAI8zNWegoM6eKcu3WFSDxFNBQr18djU9z2X92hjwVsgJgO4V16MLMbqCs1x\n",
            "zLQELxau5UxRPSdVgwhtfuNuZX1z7ME4qhoaHMESMPjoWWYAc8pJaQ7nbVDq37G8\n",
            "aYuXLZ0ZWJ/cyX06Hic7e7n6qtp5uZvdHpfOHKAY+TnDlY5o0YSY0eg7vljF+s5s\n",
            "4vfdulcs3slze8M8hdrZIuaMqxYr3QFZf0qPHmERRsf0nwziEfGYesogkd2k3tqJ\n",
            "CNK7yMzbozIlRXzR1gutBTTibbRhf+cFMv4a6m/mIRG34q3gxm9hTHxzQ/PF/6Vy\n",
            "2nktsTphZhMUczD4q8B2Fix5pwtYkJ317JvifJWOmR349LdhV75PCkLgf1ZxapZ0\n",
            "rPFRLCaS1F3dxATvIE4j/dp29I2Fi2SCdezoxezyo1tFNH+azIrn3ghpt7UHpYU5\n",
            "OfInicz2uhFefpr6WXBQh0v7pTrhe0+PmSbvNzHeA87I/9xKtClEaXJrIEVkZGVs\n",
            "YnVldHRlbCA8ZGlya0BlZGRlbGJ1ZXR0ZWwuY29tPohGBBARAgAGBQJTPrX6AAoJ\n",
            "EAmUkfeRsNO3nqEAniiIKQu/J1AsO0YUxmgkheGB8FZ6AJ94wbyyGR8zIeUbd9Yx\n",
            "nKH+33r2eYhGBBARAgAGBQJUB0XpAAoJEBUoZftifM+Vz6YAoNTFx0NutNCCWlwY\n",
            "kpryxQYZMaz6AJ4qoAqF2aR/rYAZDX9XbfS1MbWzbIhGBBARCAAGBQJTQCjCAAoJ\n",
            "ENsEChOj17m8Xw4AoJeCs29fZJRPmdYMfyo2QwH05CsGAJ9P/Z4uonpZmfYSHE6Y\n",
            "/Fz/TmABM4hGBBARCAAGBQJTXD48AAoJEHmwEmaTcB7v0xIAn0vQ6kUbO9I7yRL4\n",
            "HyocEx+Ys8oIAKCA/3IZAbR6O+7hopFaqTa7/ehehohGBBARCAAGBQJUmI0RAAoJ\n",
            "EDBW8O9MLT76PikAoJIH+B1cXiIQ3rB1IMiSlvrilLboAKCRMXvo4kMmhIz6TL+8\n",
            "ks9AHD8a74hGBBARCAAGBQJUsDZ/AAoJEEv9vaZgRfseotkAn0pXDU9vXb1JLY82\n",
            "oTdI6MMICzXAAJ0dO2AXGhmQK51zfNhRTRqCPXIDqIkCHAQQAQIABgUCVAvgZAAK\n",
            "CRCc0X1YB8BxOmoAD/0boRAyefgxAuNihPCeWoLcTAicGAySm0GNgdROAAX5OTvT\n",
            "Ii3ATW4enqPRrLK+FARI42xvWcM8ekjt10vmA8XkzgAGC3jluHICAjprvcBpONHR\n",
            "yz2Bc7/qAqFP0ErrxqVuSyoNRlAtd7iOSMnDeT6ulCAMQtVKjZ5xcEnbEYokac1I\n",
            "0O1JGWDM9eHJd77ehmGcLNOBzOztwcSZ3pyS9FvjaJRM6ngv3qZluR0BR+FxOgsY\n",
            "NbjXtv/9ER1xg8f8psAAI5BArmBbPzFaEy8sEvOD5YxFZ8dI093AgeTqvmIyqEYA\n",
            "hVx20sBOnLlOinwx5njXRNt8NpSfs3yPU2NTbxVeCY+CFFqF5VCikRYTi95GQVep\n",
            "/gbZFYIUDAKzqwIMTAQ2KoaIbtExIHnzBDGVgiu1ANcMjWouoUgZzOTwXQSFO0wk\n",
            "OvxnaIpf0pPfQ+yuR+oN3U5ma3JYFgrxF0RzqCiZxlT2jZCAcciNlU/uPwvKQ4He\n",
            "6IfLMV6YZWM2TioltwHXbKhxZRSyOLQpXK5tHRGjZUDMoGy4GITnKaUCEIf8xVR5\n",
            "V8nrt/T+CSFJSG41Uq87WQvnj9tlA7gcAwyzzGLiQ2hAAJuVEakP/C8APpheG6wo\n",
            "S/NN5tcNJkvoO3ObTriAMAuoTvcaemGnaSTZP8m4dvTYQM3D9dQTyC2J11Vu+IkC\n",
            "HAQQAQgABgUCU0ApNgAKCRDJ/EG4+Yxmz/seD/45LVeLYZV/Zv9flkDEZTUz5872\n",
            "1Z0CQROL204dbZx/hGdLpDgQolPRgfd0klO2vW48jsn1y/F3wXwgGsaSia0tGcZR\n",
            "UsiPSTdvO26ZcncUBiZ8MF/Wq4foao5rhEhFQg07O2bAcDJpGWe2MoRE4WhxWp4V\n",
            "a3BoGMNPs+tNPFyGlZqtFxtPENG/HVckKKECnjkK9y1uJDqtvCVWca6YJPrXRj3x\n",
            "tj+TqZB7rmnX4yMHjKVankou6dlR0/1/Jvk+/u7R1AoPw7qYMzEi37QjI03EAsOr\n",
            "lgKq1YIvY/Wr5L3A6Cdbm9GzIL/D34J8rD1il10qDG8oj5CIR/7IyDQigb8b8H88\n",
            "6Ow11g/pTd/3ip5A9A/7rhJfo27HrlsIynZvxLoChBXEJquAjUtCm5MEactaCFp9\n",
            "deeeWbvJK/mIcyYKvfRTGiNkpcQmjqGTOFxoPOXmLA5qYVvFKonr8yMzkPL1eP2r\n",
            "tfIV5yKeWP2P0L9RX3ljVmVMwI6JmvPj8j45x7dqjxr1TURxmCUU07boYUE8ZnoH\n",
            "mi2H4xjB5u2EX1arsCCLCkSvGeD7eoBQejhKpyy3+5gz4JO4nMKJOtHZf+LCAmvc\n",
            "FXgB84kp83D54dHb6ENdI4cGgEcYy4ffccxsnzQeP16OXrciVuoWVjl7whHodjxV\n",
            "BpAEvrFNFQN4u1tHPokCHAQQAQgABgUCU1w9XAAKCRBYqSLN212wjjhtEACDek79\n",
            "4Ek3D7YuLBHVqcuOawv46KGRRTte3RecMTX8qeSiIBOHR7BX+8P7qRlXgHXytxiV\n",
            "N5o86CIyHaekqd9xXz30FOG1c5q6MYsxXEWf/9rdhbkgvG16CQ0AN+PqpJ5b3dAG\n",
            "ItjmiDw89UdCz0a0Cl+ieXJgPUKPzrLFpXFfoBUp0oA86pKbjzfaNRW+kkYqeC1k\n",
            "tvhjtNK08jH+19WbCQl57S9RP0Mug7fsivxBNTMZDVA6/pNJawaSwX7+CQgBXsHB\n",
            "D1jbUY8UMFOEQrRzBrwlnnhV9pL9O2o0nObFFC7nwlkKpSujYO4nr05NB5W88rpY\n",
            "ENtOfvnyxn9AOr/QHOxIHzVqMZnMXMzRC088fxHF7rWJV8eYICWoOIPxNSConp04\n",
            "izswjO+5UGP8ZvHuZ7zEmx6R5RZcvwodyXRouRpahr9G9UaHT5srNSyt3d9bQwRM\n",
            "GXhQ4X8BFyHk34x1FWFh8qcE1oZEWZp4htYNCa0nLaEabxIZK1Yzcpq73i8Eq15D\n",
            "FaH7mGlc1UXsFhgrBwnQUcr5NG5q8NwgA5Y7DKKM1YEbquMB78jeYmHeo3pMpZNA\n",
            "OwiWWqD9JfVycoWS0M3Ak27w5nuBNNUbLf8sMkggVcEkyNuXWEYb3yBuBMz/oUWL\n",
            "58jJRDbrRxwJsLMEbQVDt+oJbSZf9os7FWJfJ4kCHAQQAQgABgUCVJSY8AAKCRAK\n",
            "UEL0l1EDHOsvD/4not6qVWOfeg2jzQw8qM9jQDjre60rs/JkuIztcMAG/TvLgKa1\n",
            "mL6Siidwzdt5wLDYfT56whkH1s2t8VGBx60zgQd7oqsyg+kf1I0u54Q5eHjFT30U\n",
            "BtDmN0sklitdsFASlhx979VVV5IOeT/d0PnqxnLj++dYomjeD3ie+SbydXzN/u8y\n",
            "TCzM0pCEXyO1QBZXwG7XDtmbmVCxMOhisCeGPL/dwGyF3m6LqNxDmacrXLfkZSNO\n",
            "EgsFBqJX/R8dNdICNHQAbicrm6/RTrypC+KmZtvoMT+pXhoKSg2tnTkOTeLpw9bE\n",
            "dSNi2yrz9PZ6R6YdBVI/2n0M9eqEzXqIy8/7en+rp82/NlCCod54ehDoZRyJrzIz\n",
            "4AhBp2DgbMmu9RYY44yZEx6w0FBLJY03ro39QJYtyE7AawYQwA9IHVakhTtr6CdA\n",
            "vqKHSLI24IazmpPySuPpaomqeGIX0Xw6FTKEUMv9ZV+8w1LPcURyUumsyUezw6JN\n",
            "8V/0CRVXUdfY5KpMTQLL3JeMVgYKxR3vA2ReJ8yMBe7Vfd/Fn2N2mB06eo8vCZJu\n",
            "/Mb5LGe36cYZJ9z1jzKydanyFqWhBRSCVV5sa9HmeVQEJTds5jW8uDg4YLDiBt5F\n",
            "M6Six7KBzJBQ5u4bu67NquHSud09jFXlY2yWT0PebqpuYwB1VlwA7sdB+4kCHAQQ\n",
            "AQgABgUCVLA18AAKCRC/oo+Ln8iuc9dXEADK3B03hrv1+MMscnKIl7iXLc4rsbO6\n",
            "R7Vc7ivyCG4R+DVRe/kfaKQfyAey9xqtTxYJ9ysBQ8egNfvgoLVd9a0y5v1q426S\n",
            "vvdRfCAFsNLZoeuWkMvl8FavlFz/aGpPNVHfnL8UmqVHax4WMaOHdiOO2k/HkMgf\n",
            "rHhj6thmQJLxpTRIwDGO8oigh9g1kgQNq01Olb8A9TY8HUVJXvvHg9E1NwRFzxd4\n",
            "zsinIR4Hjh7s4qxWCwdKKLKCDBp1mCu5gypR+t71LDAZh0rDP9DA2BhoUUHGyJcN\n",
            "cZGrw4+gjMmXd6Wf6LTuQ3GvXaV9ASbaJKPmYBF2xjwpmNabXd9YTRzCNOJCgRWh\n",
            "M4Yi+H4gQkh0DV3nFXNZ1E1sawXI29lyEu6vW20y4Lz4mkuMP5maAukK/hrpC9iP\n",
            "GkZrpsSwblS7U+/yB6YxR2neISboAenPeRUShHc3hVhU0kjYfio0omFZ8GlrxNQl\n",
            "Z3G0qGOM7JxTCFDxHxjMvP17sR05i09b61MOqzPk3ob8bxGiHz4xc0mnyY4UFgQ8\n",
            "jWecPsX4FfwtuTTAY9BJDAkLAkZPNinRzz6pUOfiWg6soxJke/RfQma3Xd80o1P9\n",
            "FdhHUd0HWbLUsYXEtg6ZS5seVzw8Gkg1ZAt2pqZCjKq26SA/bCamty19pZ+Fd/2Z\n",
            "P79REnHHP+iRQYkCMwQQAQgAHRYhBH1q23UPkQhViUhL5nfAx157ZQgIBQJYrZ5N\n",
            "AAoJEHfAx157ZQgIkxMP/iHT7ZAwXuF+l6Mej8NBxwEoZO0U/rjRDEswDKVr1KbZ\n",
            "loKmniz89wNVEfF5maOFOT7aJrJWURW1SD4Q7kJt5NAzih8E6iE8fSCMxKeOa9/r\n",
            "ZOfZauro4ew1p1d4Wv4l25FaEHQqmfWNJlyc9QFT3CIpBwDv4cfnGQzoivMmXE+l\n",
            "QJx8z6SaG7Wjib70GcvonPfCSaleOUI02dXbV33wM46lYGL9WsEgecITYvgqGwec\n",
            "aLIXQQPKIa9icN4bwZYLH5jh46+8FDfz5sXH4huKouyxXoAE8h9DJHB5zrXKRpI0\n",
            "dKr7zmVV1Ph+6XhbxzqZAltEDzdi6luj+nugq8tGhluYi9QqWJookWt30C9NZGW6\n",
            "d/IyEHqJaQG0RCHCBLkyUCWgRbmz019aPlgcdLqOwEFKKgQO8qlyzFMOU/GlgxTs\n",
            "rFSEMAJLBvdELIW/w25nLVY6FHTpnB/Smityc72PXATO3ZkAchgDi3hFwVB86rVe\n",
            "kCVxOEdolD3ujtl2ZC9Hi9/DSwrjdl+eokddwsD5QuFk2jhNYBG5c3a3x3diMINF\n",
            "E9f0hNgtMl1OlSvrFgvBRsfqQAnh3nMhK2yQgfhO0Y5tuwVTIrlCLzE6i7nlrUF8\n",
            "QiJc5iK7t1BaNn0tJ00ik5piiAnWuyjxkTJNh/wLoHZRohpzIceLKJ1i3kZFvTt7\n",
            "iQI4BBMBAgAiBQJTPrL9AhsDBgsJCAcDAgYVCAIJCgsEFgIDAQIeAQIXgAAKCRCh\n",
            "SJ/iq5miGjoWD/9R4isVKrZ6k7XIAgRNUJofiZdg2x1NwaJ5xCcdvbh45IqZAnQg\n",
            "s+v4y4wZ04yEAaOQwUQoKw8Y91c8zAOD5aA1qB+mjv6CMrh8IzdGeuKRporMKY+s\n",
            "XBMnTDCNi/Kmlv+ux/bu7qavmXZCPswziPhJT7vuJY27ymnAXL6ZVAD1hUvaGU8x\n",
            "Zx2Y0bfd4IvNGkHxBGe26/ngns5KyRBXBeQmdxZqBvsu6fxafOQzl4p1ni9xMXg/\n",
            "p5MUJqylmFvzXaekrB7Dnr2fTGQh8xIYfaorDzP1GYWBp7pw70NWFKpt+TGaUg/3\n",
            "9rd5Z//pKFnx/VuaGDe5gaJyP7citptv73JHsocIZGipat/ouLp1trdORYHWn+/L\n",
            "ZTGl/g5IqafNAkUuL7XxrievmhyOfpi+UE6NBdIoJ6zATKwEd0x3hKBQjZJ0r9nL\n",
            "YL3tqKymTZa2Ohe1dIxoan5E77SnDKWWAlz0NjzpvOrCWB1uSBQfAp9ZY5HPAUhx\n",
            "48IvbfYYlR6KWckqhqg6C9lBXS3DaKhvIal1y5SQLEdJGK57/sXPMmdulIlNnpP1\n",
            "5EP/Yea3OQ+J/469MEpTD8oMyrVCMQ3tlimxWCyeFMyDVeDt6TjBOIeZ7Aobtkqg\n",
            "rDUbmL4z1WJxGbjsD2Gv0chBohvSoe+MnWnN+8biR3tyT3VosYNXVkjULYkCMwQQ\n",
            "AQgAHRYhBAu+7vBk6Uq+hDJYtHVBz6r8NerPBQJZ4DXKAAoJEHVBz6r8NerPtfsQ\n",
            "AJRE5F2wop4UM9JQIEJu77tiVePm8k59n8N1p0FKplmqraZDy4Rb4IKLsLxkQEVt\n",
            "58SgjmUkFnBjwpVDXiKw3ofgwAqaRWeotXVhrfOl746UbAeJ27hALxQqvidcM5bP\n",
            "UAit3BVi1PkpWOGSK+3r2yIRFzb5Os/ac0LQW+RHB3YCHR7z4qDsr8zeRPEoXKbM\n",
            "9xykKCXpQjq5RFq6sVYSufIqeWEW99h3VzTmLZwUPs1Mx+52+upernVJxWDHOwRj\n",
            "zKFA+Rg4zJvdxIFrbedzn2HZiQv0HmNmKtnk6T2lmHjJOuiaMGq9VF26QVNu1a4v\n",
            "q82ocUTx97vuio+Yhfv5t+hU1VQmWLO9S3j/TZD9GguxS12W/eceSVV8xPUgRXpA\n",
            "E4QGCm2NhWPl/qsYFUZAY0HRU2r8IVxZAcDmrjug5IyWY5ZJYugY2MayErrfv56X\n",
            "yBPxb0LWU2YFGOSE2HfXzkU0yxsXq7M5O2muxNwsoDOH+w/3R2BdduFkCoKB/88L\n",
            "VApmwFmpYEFc7JIfUXLBzDTdER8laiLaqL7FLRbjvoW8WU+y9F7c3m868hMCc/x4\n",
            "Gj4vIWJU1hHK6IdmNEPVqGXjgGJfpI5TZJ5mefRUO3DOEC7fBU9gENVEGX4VykPb\n",
            "vF5fFCc2uqEubPO1OZuQLbYd+JX2vA/Yf4NXArtyHNcntDNEaXJrIEVkZGVsYnVl\n",
            "dHRlbCA8ZGlyay5lZGRlbGJ1ZXR0ZWxAUi1Qcm9qZWN0Lm9yZz6IRgQQEQIABgUC\n",
            "Uz61+gAKCRAJlJH3kbDTt7+2AJ9OEkhet/biKHOezN5M313KVEn46gCgkXKJCmSL\n",
            "VXmEhT72GGnzKAI77G6IRgQQEQIABgUCVAdF6QAKCRAVKGX7YnzPld+RAJ0YK/Aa\n",
            "nyx9oA/p9T1/vFWJO6t8IQCfa/bODo20GJMcU9zmbkhg7+k/JpiIRgQQEQgABgUC\n",
            "U0AowgAKCRDbBAoTo9e5vFPgAJkBBjr3n22bSRVQn0GbabCN6DIAagCeJfrmELMA\n",
            "kh+1QgcSJ/A28qgnuFaIRgQQEQgABgUCU1w+PAAKCRB5sBJmk3Ae74u7AJ9u+ydE\n",
            "L4iYQKsHILpzdAzayh2u8gCeO/CxVx7HGOD+PboLoUwuasnZif2IRgQQEQgABgUC\n",
            "VJiNEQAKCRAwVvDvTC0++gvMAJ90k6EAoVqxCeskmFL7AQswEGMNuQCgu4VrwlIr\n",
            "jDVAKaaULjngfr/K8zmIRgQQEQgABgUCVLA2fwAKCRBL/b2mYEX7Hg8HAKCARWiy\n",
            "7Q7c2aA8D3BqBkbfHOuUTACgiM+6LeFn7EZdpVifZgimmpGwwTSJAhsEEAEIAAYF\n",
            "AlNcPVwACgkQWKkizdtdsI4ucQ/4peEf2FkMJ9xSrenLTOSiVs5Xy2+72KdPzP3y\n",
            "WMBmeWDtlAc+iQxsShFGd+jna7jT5Lmg1asj4aMiyrjWxVqQkjukZRfB6wLYNy9/\n",
            "vheVaS5VH1ydokVsXQgxK8YWc4dVuq2/0HdqWfDFHjSB+xOVDZDMksbRa2JNfSmU\n",
            "G0U620JZcaAp5k/zI79kTgNcGzFSkWLwlcaO56pUplu/biM8hWuho0lEcSaPIr4P\n",
            "tNGowESlyuQtFCQnew9Pb2Lm2nb8otPrC6BxQTBLhtqtsu1DFmBFuz8Sqcde/u7f\n",
            "cbF3q4w+GOWEuGU37PUYPW0HcSDMNZbKVia7Re8O6zPYkpe61IXQnUJOWaMAgsGh\n",
            "hqVY9KXehXMnQ+iOhw25ajnnU+szElTSzwB7aGuwxxioKqoRu4HyDx3b/ANtBYt7\n",
            "kH8VzsE2u3Hhpo6iat1CWo8q8PgzLhKCiw0CZ/CkeJQQ9yaC5v73nooOm9sut20Q\n",
            "zPO/fFJmfsI/fW4k6ZNZOzfRhJwtDykBPQHFoBwWb53oVwFMGekgQs3mJHtfT77f\n",
            "rRANvJHskgYBgUV3ClCcyh05LMXlzAb21l77gM/pXjTxqrIkAkBVo/9xUzK3Z1Ek\n",
            "uytK1lEW2RScpCo+J/Ie9wYDXSso3Duj5byqYJmMNoHSe8RL8auukU4JTIZMy7AG\n",
            "H7O4e4kCHAQQAQIABgUCVAvgZAAKCRCc0X1YB8BxOlglD/9gaSbmDW/rIVl0WJcm\n",
            "cKyia8GZBm6xCWCxtoMbS20FBjdt9IGJAqPDUbtarKYznpnt5llUxfA+TciGVmBC\n",
            "s8T32Ad5jLawLIWKhpbudGR3cN67DrknJa+xiPML82Yf0K0UaVzfzT5cfhoFMGUV\n",
            "H2V/fNJUbzck8yBqflhpcuTEc4a0XpylKtiwCQuqif2wWtvAnPA/M/9PrNZN4XJT\n",
            "aDBQbEALwLAeK6grMb6v+cDLSKPh+LB5MD/F7HggWFU9XQnTRbXsUCs1+K2EAVcL\n",
            "uasv8vG/f7QeT4fdgYE0bwTDFa9BFufS12y/KRxX6RVSXvGOF2kCCyUTqZzBM1s6\n",
            "C09sXrKX4pauQdARpfhESHg5a4V87kMd9h3g1f6CSCv/IR3gCTkCerEQ3kevwgwo\n",
            "q7b7wrfOlc35Y752bd8JVM3/tODLfRWDbpmuPC8N19MnSWAFkP/NDBMi0psTUXTH\n",
            "C+eMgWaYEzuCs0d7xC22mKp0SR8/6sBeraK6UGc5YHqPRoYCFli1eaRM7mvCZLth\n",
            "gfLhTeRTMTaOzeEhgnjBvLRJrKi51GFZs+bVwXqPRKMA7eYLV7sUafHi6VfWAioM\n",
            "kw4vpxgtHoOvXT9BJZr9HzYXY+zVTUw3nKQ/5empcb6DeQdwJEfdsn/Hm36wDmJZ\n",
            "s8h9CLXzfSWX9TWJgoOMAcDrc4kCHAQQAQgABgUCU0ApNgAKCRDJ/EG4+Yxmz9eC\n",
            "EACwH5Dh9rcYNV7sGlzrm4QHyHwXvdsLhSGmIi+cbgMulph+MXZwCQnX2GFYNhxe\n",
            "v3mjQlGIF0NaC+94HSBgrrzlReI/uNhL93gO28UbR+FF0ItysPHO1hhIZaAGuWdR\n",
            "JracQntZOXjHSX/+l9VQLtOlUg+skqbk4RIK1FnGemkZYM7Yjq4xkvihcNR0zKYk\n",
            "chREKvEUWujJ+/4yH5y0q6qyDsUlsEWo8vJIU+Rxxm2XRYBniZFC7kFCNIp/euh6\n",
            "fBCCMaM1gMA/TkF7F7iLLN25p2CBLGT7kwRszFitzHrTZjO2Wl9R5OFh+/O2bQ3z\n",
            "MH13Ef/tp5iihy+gWiuIhnvZTeY+xU3S4PqGCvi+e+aLw3cZ1IJCZg1MQK2oL7er\n",
            "kRmDXkt6EP2z+VZzmbU/2TTc/5CgPeqtgzBkKFtvNCTyV15sv7R3/RXw58ylq3Ai\n",
            "Kk1cSfEAWMSy2+OPa+TbiEfklunW8WxUsjuChv5n7FE2JTSHwSKGArS8jYbUYJ/+\n",
            "lnzr8Ko/2DCyYbkhuid4u0DBEL7VeSNuskirqpJqQV7/MBxLL2pbVH6wVyBYpRMY\n",
            "gBNFMUDJ8oE17ESTqmmc0rP5EJCQwBOUUrsDXI/8wNJdFpngXei4V9q6j2BXhZnA\n",
            "TGageKB0+lchm1iQiU+aVIQGkqJWQqT96j4L9PiUCDqXkokCHAQQAQgABgUCVJSY\n",
            "8AAKCRAKUEL0l1EDHEgJD/4rPO6/4d99lUxVesi/5qSozB/7UCeFyPIQXDU8QqOC\n",
            "JAQ1qutPWbVdXpIPq6Tk8rHVxYF7T4Lds3CAs0DjLdlB43QEpGYup+hRwBQdsIYx\n",
            "FL0KqPZ2qmcsus/ZMbvqffiuRj5wPCQ1Rgf3eIRkrXVWohuRk1XVLlXSRYLzWx1F\n",
            "mgBLBaRKxMxRaU87Z8ngA8ESwnD+kKCAM8mN2vdIOUYGzDTjzZeBi4BQWJBJa+RK\n",
            "9geAlv0DWd9mASKiegvL9Rh333DuVkEm62m1oeTiSgqDgnhBiGPjMXvxVNeBYUys\n",
            "j/u/4EA0K+zvg7QNjiYFENaWyPUR3p02JDbv4GVj8gh4Mt+11yYaycsV7XgqQvJO\n",
            "CxoHjjAQR07lWUi5L2YicsafnUJf5om5aRrg51G3bpa4Y6zbnrDl/EfVapV1Athf\n",
            "0JnnLbTo7rD5wRG+8RSmWfTtVOdl+6C+6B33XfRVpqh+5ui59gUUM1scesgxez0U\n",
            "mBRDWde5xohRvU8YwGZJl4VPyCM6BY8eFIwno0PcRVs+8p1HK6bQB6FPjYJNJYLP\n",
            "fGfsx/OSpoa56Bh53nsq+1HEESIdwvfKVO/7rFQzxM2ijbHCOkhK0FPNgyrh0JCH\n",
            "56j/97My3oeafw/HtT0jmIaQkP7VEnlhHC0DhIdmNyz1gzATglWZlNeWlqX3ctdJ\n",
            "YYkCHAQQAQgABgUCVLA18AAKCRC/oo+Ln8iuc+MPD/9BMqf7LWf9sCabDhOSXfql\n",
            "EFzXWwWrrPCXkUL/KK1kHf9BVbDY0lr47rDRXP3q/uIV/WDOXZ2sbZdS4VRKyshN\n",
            "Rzz/XK9W6/wbfyidemD3bJdd3wqH80XRz2qc5yThTme3fLuBg/bjdrlht4Oh7Lsh\n",
            "R0oXOh9a1CijWtdflL/IRMOzQJnqHhqRjLUduM1NrhSbrEecH9MOSJlFoRVeyI7+\n",
            "yIikOCyOlEuLLq1CeZiydhQpoetGKOnwzpfUmm/B/jnxczoe7dS1PqVxPVZAz6Jy\n",
            "Kcu8xqaJtuzrES4eAS7vz2bMAqnkhx3yOa7BNQ8ZF0KRdQmanpefNR7LVfGYgZxl\n",
            "DspO/D2tGZIXuAHauztviRkW1ZqE8opxvUjVEkyj/yOAzApuH/lU/+nLQO2MScvL\n",
            "HXd5C2TmHAFXjXzLfCoZPLGZC9VUJh04rLbaHZn3lPw5xm1HRCYBf7+5V+ojp9JU\n",
            "BrcnUbRAvC0lN5Fi3KGIqnIBwRk9lEzaD/izmxmcUa516ZPXPkiBxDE/3nWs6lI2\n",
            "UgINl9WPWVQGjxptDu7uu4mApiLG2MIAijYP2N9wUrZJ8g5hWKiO+2ovoMBLtPB8\n",
            "T/tUGGTRACZ80HJo2Z0Zc8yqDR+VkINq92XAUb9mVV0j94qNNOjMiEEhyBgzQ3c0\n",
            "Dfcl4bHQzb8nO6+Xy9zo4YkCMwQQAQgAHRYhBH1q23UPkQhViUhL5nfAx157ZQgI\n",
            "BQJYrZ5OAAoJEHfAx157ZQgIytoP/1aDfUhxWNDxMSAw/Vaxlo6okJ5FmXCbTCyH\n",
            "IJicy24HMpMdJhshSl2lYLe45W0oHdeTet3ZkBVC9sHqr8ESzQBySwG43USH+m+y\n",
            "m1gDp6c2D8zrSvpKihaFez//oJ/7rIXitlEv0S9jO1w29OfsKL8ONc4np3VrXR1k\n",
            "9JsyZoPy2vrRkseS9ZIWXidk5AVBM3yoDaTCyvSPlQ+n5FOAjIXJLJkfHuWsrkej\n",
            "PJr97Rs+7sTZnZWT+3V8hmYpQfepqkFLiMhKLVuBkqRS4ncdvBns3hI1dd+nbS4p\n",
            "XEOaBSW+TDw/JE9COfbnbPjNAqYHZ5FGTr1PwEAmIHYvE02KdyhsElKjmjJohdzL\n",
            "9OYr9v17yuyo3c6Seyk6JCvap5tHqRvjcjwJo5ZHYew37MBZ+pnDpqHlv/D0p6zV\n",
            "S7Mp4HcfjiguDO4SDUNKwtEvcrLC3UWwfF/eUeAa4QKQhiTKXDsYdkYRZ8CW840D\n",
            "VJfxtutsmI98dlmz2nBTgyNxpueWIGLZAg6X+g83boGHJRBdDPfN90ggaIUG/eYS\n",
            "zyhlvpTCw2HkEv6yx5EiSpnUy64nznVdbhzwxYPCaoCZhSicMx8LT7vp/y3UX97o\n",
            "gpv7xXjFrz8Y+ueGfYbHOnm+bOomhHVGfnSzezFg8YcyLeEA68UIO3d7KUmfH7sD\n",
            "dcflJjfTiQI4BBMBAgAiBQJTPrMcAhsDBgsJCAcDAgYVCAIJCgsEFgIDAQIeAQIX\n",
            "gAAKCRChSJ/iq5miGnlTEACtqRHgpTGN36HB0sNzG21jpLSpVdnRNYtsxyTFuNRz\n",
            "Yoi0sjRQVUcvgqNb129f4HvLQIC1ysVitLQRSd2aIyLa0xTFqG7PTbbdVIaJIGiG\n",
            "8MWA0wHdcW5YTf6DFMr3dCHGKKkIdJGi0M4z1Ge3TuMFiMm0J5y9yQ500xJvXBF4\n",
            "7F1q7WYYi1tEus6IatU/77qLKhXBs+9iPWs2ix4Hxr0T8YM82ujMhvdwXHk/X+g4\n",
            "JVsG/b9g5tvYP6vNZWA3OOaGJZoT0ZIP2/Aa+XZqlyCZmS2wm5Hu52rNtqJ1KUeI\n",
            "a2oOFnIke09pM337Cis3XK45ZyRSrbxFPxNHPIJugvDu9bMQ1wwaDpYN2ceFFOzy\n",
            "5sWXGVsHqf2p0nGhTkRTpzLP4IMzNf2pB4Vx8fbS+w0Bj3o7EJSm09daGdrFs66/\n",
            "x/VLYudOryv/rjLVXzYsCCe3GoHKmEr29ZZKQcmOv4JAbw0BmtkAAN1+mrL9X2Zr\n",
            "U3d7JHtjsqwCKTuluRMmmShgoNtWh4SCIitwwb3J5FLva93oodup6MHqqzQ8lkl5\n",
            "PIAGhbZhYLW+SaK5/IdQzAl4FDCCGK4/4369YvpK6RfhUAdWG/HsJVQXdTKuJfCl\n",
            "GXmDeuUwXZDFEXeeSjCvd5RZ4UA3I/Yk6TktEhZT2Zh3FrLQZFhLfwaETvE3x6rg\n",
            "rYkCMwQQAQgAHRYhBAu+7vBk6Uq+hDJYtHVBz6r8NerPBQJZ4DXKAAoJEHVBz6r8\n",
            "NerPP0YQALqf1obDiraLNVdYjiMDhuYDNbfodTZngMkkVZjQexHvYRxxVjaw7KBq\n",
            "vAsZxxyJ5af1oMFHLEdLi7538XtLpcyw/l2NFfUGN1Da2bJ+xnCL8xK6A1ROYgnH\n",
            "wgH851r/ahQjO7vvuVrKME1on2wSWFFheYa8wE0iNKzYNqn1oHTKccNLnUPoDtjC\n",
            "fs+vg/OjGjJ3vUAoSjn5GGp8WS1m7iigvVKOvf5iEOQyMhDcg2c4b40K1LmtRLNs\n",
            "nW6kL+sYQ7lLGE4GcD4rcTHSggu94s8I600UsXo1OefY7plm+rsujkgcfOfhWy5v\n",
            "kEdJHil0eG2uL9dXxqyOF0vdwvv13pSXnVL66QJ154n2RfxUwUQbhpk7voCiaIM2\n",
            "jHAD+7C5bueMgB7K9Xze9haetrp4pFwrDKjMnmSiwSUZH/8ohZRg4FP6BB4RbxfL\n",
            "nGylQxjXEfCdf+6UYwZccRQ0OtW8SvylTRGHHEZGR3Eb3jKK574Y5CZTwX+O8UO+\n",
            "+Y2M2IED7SEfYB8esDKaSBeA45BpeeAzLp1/cewbNJrGfhLihcW08ssmdfNKj6Hg\n",
            "iQp63e6dEXwMeRqiP8n1dQvRkVuMnhpjry2F9yQwzwyGgpLwiBtNY320M2h+dALA\n",
            "JsgKXSQhGLnKGwZbyw3Xn6r+0IdNXbfBJ9mxzAvVFRhvSwSJZbWluQINBFM+sY8B\n",
            "EADhjxWFMGpto55PFbNFDxfFHzSnZHvdvDFziMPhchNZB2UQvGvMC3p/v2MMu+Jt\n",
            "eou1a41mqbQw9piEGuWPLX4v3HfQGrGwQLMXut7ldKudujbr3AKAS2z/NTosVOoX\n",
            "3pSzbAYukrWuetdg/4drvn3aNxP7L2zu+b+OYQoGw/cQXAxmdmpbB94NoctZt/5A\n",
            "T07Y3DEv/6R3k3ZP9vB78ylHkfza8LWNeBqE/fhUDSTXM2Yr1RimcYudTT/9g1Za\n",
            "+/yg6Zaxgs7nWqQA9tjkoJ8CoE2JMhCBbHwugjjz8BeHXNK7I9EAQnQe1PCWgclt\n",
            "ii3nArjmVwcHkwN3n5L3JLDsL8zUVNOFkzPDp8ovMN6HHqNtVTe0XTVcKeio9fGw\n",
            "CggfZBAXEOUu8CNdPf6JrrUihyyLyGJ5a+T5jQ8KjSn/sgF95eurG9dZKnbWDlfy\n",
            "ewZl2q/KqmFFogdtlm6m49OpfHgG92rGZtm0exbn2TeafLCZCGPTvqPJpBKqfL6g\n",
            "SWbD8WmgjFbMAQ8Kn7vuGqI1IkATXGsnnCSSBg6UxRZAJYeiNjDfGrgOSBSoih18\n",
            "babkaZPAw8gZqZEAX1blnxO86FYrd67g73DegVLecrTx7Y5atwS5osbVWZr7iatS\n",
            "W/IxZL8tRWmk6/tYQw1o7qcZ6mTlgWjaRqHCx0Q3gJHaZQARAQABiQIfBBgBAgAJ\n",
            "BQJTPrGPAhsMAAoJEKFIn+KrmaIaNCMP/jqIu/HFbLeFJ6sh9dC+DTxFgZV0pr7R\n",
            "yFtERfBYwyhGJggV3rklWXnmPCvggCh7FBXPzQaLYj+Ebkg44RlNyTTqwiG6QyG+\n",
            "94BbtoOgcP54ZIeKGmoqyMs7hpKv3jF4i8YkhFBkmd9x2iGBHWyJ/hibZ11l+us5\n",
            "86D7ue9UKKvpSyqwvA+lVQ3wz3tgj/A/baIKDkHfTjyGpTDP9R7qKMiXDEEL5idE\n",
            "PceoUr3vdw2ziF9RkJ5Tqp4bISMmOHUiSWDmhoKBqmmm1/jyfWsPq33wdhliCKm8\n",
            "QsAXHAbYQ8ZSBbnpEkg42C2JBJ/MVm/HcgOaYhyba5KE69Us8zqw91CngodwDQXa\n",
            "nrZXOaA4/H4sUnyg0ucP3YvhL0y1NjH1rfrZ2318wyS40yKkHVkU2sWB6HeNfkJu\n",
            "Nflx37ptkvguTHVF5B+jD9LS5djUGANCYtvRK0jRwCPdqVUgBIb2obr0kmGovXnE\n",
            "Pmn9UZoqDqSm5FY80Rj6ElPSQso0rB9oI2QkNrZaCSezvu6SW2Tzm2b/ceuGz/+r\n",
            "ARLZNqmAFO8oUDjrCw45Dy4ne53e+Vqduvx1Q76LuoUnE2YGqOVGFzT0QLas+oMJ\n",
            "VJl6GRFKtZoRFEhMxDFf2mUSgis4mSjwMZI4pl0YmzDDM8IN/i+P2dFrRr1AkA89\n",
            "I5rGSOk715L9\n",
            "=VuA5\n",
            "-----END PGP PUBLIC KEY BLOCK-----\n",
            "Hit:1 http://security.ubuntu.com/ubuntu jammy-security InRelease\n",
            "Hit:2 https://cloud.r-project.org/bin/linux/ubuntu jammy-cran40/ InRelease\n",
            "Hit:3 https://developer.download.nvidia.com/compute/cuda/repos/ubuntu2204/x86_64  InRelease\n",
            "Hit:4 http://archive.ubuntu.com/ubuntu jammy InRelease\n",
            "Hit:5 https://r2u.stat.illinois.edu/ubuntu jammy InRelease\n",
            "Hit:6 https://mghp.osn.xsede.org/bir190004-bucket01/bioc2u jammy InRelease\n",
            "Hit:7 http://archive.ubuntu.com/ubuntu jammy-updates InRelease\n",
            "Hit:8 http://archive.ubuntu.com/ubuntu jammy-backports InRelease\n",
            "Hit:9 https://ppa.launchpadcontent.net/deadsnakes/ppa/ubuntu jammy InRelease\n",
            "Hit:10 https://ppa.launchpadcontent.net/graphics-drivers/ppa/ubuntu jammy InRelease\n",
            "Hit:11 https://ppa.launchpadcontent.net/ubuntugis/ppa/ubuntu jammy InRelease\n",
            "Reading package lists...\n",
            "Building dependency tree...\n",
            "Reading state information...\n",
            "51 packages can be upgraded. Run 'apt list --upgradable' to see them.\n",
            "-----BEGIN PGP PUBLIC KEY BLOCK-----\n",
            "\n",
            "mQENBEy9tcUBCACnWQfqdrcz7tQL/iCeWDYSYPwXpPMUMLE721HfFH7d8ErunPKP\n",
            "Iwq1v4CrNmMjcainofbu/BfuZESSK1hBAItOk/5VTkzCJlzkrHY9g5v+XlBMPDQC\n",
            "9u4AE/myw3p52+0NXsnBz+a35mxJKMl+9v9ztvueA6EmLr2xaLf/nx4XwXUMSi1L\n",
            "p8i8XpAOz/Xg1fspPMRhuDAGYDnOh4uH1jADGoqYaPMty0yVEmzx74qvdIOvfgj1\n",
            "6A/9LYXk67td6/JQ5LFCZmFsbahAsqi9inNgBZmnfXO4m4lhzeqNjJAgaw7Fz2zq\n",
            "UmvpEheKKClgTQMWWNI9Rx1L8IKnJkuKnpzHABEBAAG0I01pY2hhZWwgUnV0dGVy\n",
            "IDxtYXJ1dHRlckBnbWFpbC5jb20+iQFVBBMBCgA/AhsjBgsJCAcDAgYVCAIJCgsE\n",
            "FgIDAQIeAQIXgBYhBOKYo6glwNZd/VfLtlFxZhnghNq5BQJfdcXRBQkf4HiMAAoJ\n",
            "EFFxZhnghNq5Nj8IAIqCTIJ/tMjZqiuwe7M4DQjpvGn4/QylkYLxn9dOds2nGz82\n",
            "FAukEAR3tmi22TETrqm+UOukFYUnAEOez7BJiWPwCDt9WuD4/Be8rzbjL0wEv/xu\n",
            "D1JHWxVd2DfbJG1PAsuv7ouFYbIdh24a8gYpasd6twdbPOdZa0mbzVOnwAmHiH1l\n",
            "gv2oY/McOO7unc/YGuD2lTb5ohK8yYdHsL5WYK7REPGqEGBS+ppUPWjI1qQb/g2X\n",
            "oSVfbLLiXiwdvBS4hzjiwGNe76B2jDuHsfmQFMdVpOzNKN0dk10Nm8MFFPrirUIl\n",
            "Uwk45UttOrcrs5hluLYZhMYHPJ/UNYnaJeJH58iJAT4EEwECACgFAky9tcUCGyMF\n",
            "CQlmAYAGCwkIBwMCBhUIAgkKCwQWAgMBAh4BAheAAAoJEFFxZhnghNq5PL0H/iGY\n",
            "9DsJKrDk5Lm3xTnLfwGWod+WoV6/eWVfrywO3Nh/FC5BVLd/E4GgaYVD8tJ9dBiE\n",
            "MboFlricO4NkSBvzUy+PQMkOXiWbIx0Ggi9eG90Q8N3+us4b7W3b5Ljb1b00g5sp\n",
            "pkKz1pu/Z+ciGu3IBbFz+I1HmsmY1ejO8lUYCAB42EFKu9moVo8n/8GSVsmF9WA3\n",
            "C3gaC0WXW9pTssxoys5YD0fJ3x1YAa4iFthc44WPVZn86FSVheewh7xfNonXLovJ\n",
            "WQIuFon4xW0bBNesVdGEEtCWEJgF87bmL88ZRZK9GEjyf+v5Ew067LUeUVt7FFiu\n",
            "09c4tuI7wCUW4ixf2dG5AQ0ETL21xQEIANhwKBAIIXVZRKftz9Vc2+CZfO+/eVVf\n",
            "1aRXhB2lwleK1eCVd1NnBXEa/cDEO5osTDFbutuopE/NY2OPjFMfG3Zi1SMT6YtX\n",
            "nwAVpBBTdqV1gbwk+vZ6iEw1mqnYEbah1zPDl5o7mXkROMLWcdSMNSby6zdNXcBc\n",
            "5qMCOC4a+kbcMqfH+Ca52swFVIAQTriR5/IGZJHrzfOReHD42BtMgP1dbU5KoT58\n",
            "tB/RnNASiMx19gh5XxDmwwCZTcn0B2WnIOtlphGaKmGDDw9lMxqGHP+joHPunpWo\n",
            "Dg1yavbbmee0iyNRTPSIrpOxo6L0qsXbdHD4gNQl5iR1VvAapq+AkbUAEQEAAYkB\n",
            "PAQYAQoAJgIbDBYhBOKYo6glwNZd/VfLtlFxZhnghNq5BQJfdcYKBQkf4HjFAAoJ\n",
            "EFFxZhnghNq5J2MH/13zMlB45Qire0mklv3z/Q0HVHTgV8QTRWNdb2GTOQAWQjJZ\n",
            "rupkz/MlwmFejoSJo1uM/Dhb19PNnLyVQ7onHBd7+aeKJ+Tbzlw2dHkgjO3bkRVF\n",
            "VBg0U2xg5a7NXlqSoaAzWi+py6bQR+Qj1AIbZNL9s24LSUfazPc2hO7TsNQoOUCG\n",
            "BQ8zvot2oRXOe/4lOmjaYFTb13KXr5ozrKzkm66p07QM5lXmrdsgterKUDdf00+z\n",
            "EXG+vo+j5qnz77TghahivkZip3FwW5APP+/8fWrQRSMzBToFWGZuLri4uef+P/7D\n",
            "2jiqon7LxHKcTkL+MajTgwrtuH5bI7hL2445uew=\n",
            "=xbQ3\n",
            "-----END PGP PUBLIC KEY BLOCK-----\n",
            "Executing: /tmp/apt-key-gpghome.UJCaxoAOVJ/gpg.1.sh --keyserver keyserver.ubuntu.com --recv-keys 67C2D66C4B1D4339 51716619E084DAB9\n",
            "51 packages can be upgraded. Run 'apt list --upgradable' to see them.\n",
            "Reading package lists...\n",
            "Building dependency tree...\n",
            "Reading state information...\n",
            "r-base-core is already the newest version (4.4.2-1.2204.0).\n",
            "0 upgraded, 0 newly installed, 0 to remove and 51 not upgraded.\n",
            "Reading package lists...\n",
            "Building dependency tree...\n",
            "Reading state information...\n",
            "make is already the newest version (4.3-4.1build1).\n",
            "python3-dbus is already the newest version (1.2.18-3build1).\n",
            "python3-apt is already the newest version (2.4.0ubuntu4).\n",
            "python3-gi is already the newest version (3.42.1-0ubuntu1).\n",
            "0 upgraded, 0 newly installed, 0 to remove and 51 not upgraded.\n",
            "Install system packages as root...\n",
            "\rReading package lists... 0%\r\rReading package lists... 0%\r\rReading package lists... 0%\r\rReading package lists... 3%\r\rReading package lists... 3%\r\rReading package lists... 4%\r\rReading package lists... 4%\r\rReading package lists... 34%\r\rReading package lists... 37%\r\rReading package lists... 37%\r\rReading package lists... 38%\r\rReading package lists... 38%\r\rReading package lists... 44%\r\rReading package lists... 44%\r\rReading package lists... 53%\r\rReading package lists... 53%\r\rReading package lists... 56%\r\rReading package lists... 56%\r\rReading package lists... 56%\r\rReading package lists... 56%\r\rReading package lists... 57%\r\rReading package lists... 57%\r\rReading package lists... 57%\r\rReading package lists... 57%\r\rReading package lists... 62%\r\rReading package lists... 62%\r\rReading package lists... 71%\r\rReading package lists... 71%\r\rReading package lists... 74%\r\rReading package lists... 74%\r\rReading package lists... 74%\r\rReading package lists... 74%\r\rReading package lists... 74%\r\rReading package lists... 74%\r\rReading package lists... 78%\r\rReading package lists... 78%\r\rReading package lists... 80%\r\rReading package lists... 91%\r\rReading package lists... 91%\r\rReading package lists... 93%\r\rReading package lists... 93%\r\rReading package lists... 95%\r\rReading package lists... 95%\r\rReading package lists... 98%\r\rReading package lists... 98%\r\rReading package lists... 98%\r\rReading package lists... 98%\r\rReading package lists... 99%\r\rReading package lists... 99%\r\rReading package lists... 99%\r\rReading package lists... 99%\r\r\rReading package lists... Done\n",
            "\rBuilding dependency tree... 0%\r\rBuilding dependency tree... 0%\r\rBuilding dependency tree... 50%\r\rBuilding dependency tree... 50%\r\rBuilding dependency tree... 81%\r\r\rBuilding dependency tree... Done\n",
            "\rReading state information... 0%\r \rReading state information... 0%\r \r\rReading state information... Done\n",
            "\rReading package lists... 0%\r      \rReading package lists... 0%\r      \rReading package lists... 0%\r      \rReading package lists... 3%\r      \rReading package lists... 3%\r      \rReading package lists... 4%\r      \rReading package lists... 4%\r      \rReading package lists... 23%\r     \rReading package lists... 37%\r     \rReading package lists... 37%\r     \rReading package lists... 38%\r     \rReading package lists... 38%\r     \rReading package lists... 44%\r     \rReading package lists... 44%\r     \rReading package lists... 44%\r     \rReading package lists... 53%\r     \rReading package lists... 53%\r     \rReading package lists... 56%\r     \rReading package lists... 56%\r     \rReading package lists... 56%\r     \rReading package lists... 56%\r     \rReading package lists... 57%\r     \rReading package lists... 57%\r     \rReading package lists... 57%\r     \rReading package lists... 57%\r     \rReading package lists... 62%\r     \rReading package lists... 62%\r     \rReading package lists... 71%\r     \rReading package lists... 71%\r     \rReading package lists... 74%\r     \rReading package lists... 74%\r     \rReading package lists... 74%\r     \rReading package lists... 74%\r     \rReading package lists... 74%\r     \rReading package lists... 74%\r     \rReading package lists... 78%\r     \rReading package lists... 78%\r     \rReading package lists... 79%\r     \rReading package lists... 91%\r     \rReading package lists... 91%\r     \rReading package lists... 93%\r     \rReading package lists... 93%\r     \rReading package lists... 95%\r     \rReading package lists... 95%\r     \rReading package lists... 98%\r     \rReading package lists... 98%\r     \rReading package lists... 98%\r     \rReading package lists... 98%\r     \rReading package lists... 99%\r     \rReading package lists... 99%\r     \rReading package lists... 99%\r     \rReading package lists... 99%\r     \r\rReading package lists... Done    \n",
            "\rBuilding dependency tree... 0%\r   \rBuilding dependency tree... 0%\r   \rBuilding dependency tree... 17%\r  \rBuilding dependency tree... 50%\r  \rBuilding dependency tree... 50%\r  \r\rBuilding dependency tree... Done \n",
            "\rReading state information... 0%\r  \rReading state information... 0%\r  \r\rReading state information... Done\n",
            "\rFetched 0 B in 0s (0 B/s)                                                       \n",
            "51 packages can be upgraded. Run 'apt list --upgradable' to see them.\n",
            "Reading package lists...\n",
            "Building dependency tree...\n",
            "Reading state information...\n",
            "r-base-core is already the newest version (4.4.2-1.2204.0).\n",
            "r-cran-biocmanager is already the newest version (1.30.25-1.ca2204.1).\n",
            "r-cran-bspm is already the newest version (0.5.7-1.ca2204.1).\n",
            "0 upgraded, 0 newly installed, 0 to remove and 51 not upgraded.\n",
            "Install system packages as root...\n",
            "\rReading package lists... 0%\r\rReading package lists... 0%\r\rReading package lists... 0%\r\rReading package lists... 3%\r\rReading package lists... 3%\r\rReading package lists... 4%\r\rReading package lists... 4%\r\rReading package lists... 32%\r\rReading package lists... 37%\r\rReading package lists... 37%\r\rReading package lists... 38%\r\rReading package lists... 38%\r\rReading package lists... 44%\r\rReading package lists... 44%\r\rReading package lists... 53%\r\rReading package lists... 53%\r\rReading package lists... 56%\r\rReading package lists... 56%\r\rReading package lists... 56%\r\rReading package lists... 56%\r\rReading package lists... 57%\r\rReading package lists... 57%\r\rReading package lists... 57%\r\rReading package lists... 57%\r\rReading package lists... 62%\r\rReading package lists... 62%\r\rReading package lists... 71%\r\rReading package lists... 71%\r\rReading package lists... 74%\r\rReading package lists... 74%\r\rReading package lists... 74%\r\rReading package lists... 74%\r\rReading package lists... 74%\r\rReading package lists... 74%\r\rReading package lists... 78%\r\rReading package lists... 78%\r\rReading package lists... 78%\r\rReading package lists... 91%\r\rReading package lists... 91%\r\rReading package lists... 93%\r\rReading package lists... 93%\r\rReading package lists... 95%\r\rReading package lists... 95%\r\rReading package lists... 98%\r\rReading package lists... 98%\r\rReading package lists... 98%\r\rReading package lists... 98%\r\rReading package lists... 99%\r\rReading package lists... 99%\r\rReading package lists... 99%\r\rReading package lists... 99%\r\r\rReading package lists... Done\n",
            "\rBuilding dependency tree... 0%\r\rBuilding dependency tree... 0%\r\rBuilding dependency tree... 50%\r\rBuilding dependency tree... 50%\r\rBuilding dependency tree... 73%\r\r\rBuilding dependency tree... Done\n",
            "\rReading state information... 0%\r \rReading state information... 0%\r \r\rReading state information... Done\n",
            "\rReading package lists... 0%\r      \rReading package lists... 0%\r      \rReading package lists... 0%\r      \rReading package lists... 3%\r      \rReading package lists... 3%\r      \rReading package lists... 4%\r      \rReading package lists... 4%\r      \rReading package lists... 31%\r     \rReading package lists... 37%\r     \rReading package lists... 37%\r     \rReading package lists... 38%\r     \rReading package lists... 38%\r     \rReading package lists... 44%\r     \rReading package lists... 44%\r     \rReading package lists... 53%\r     \rReading package lists... 53%\r     \rReading package lists... 56%\r     \rReading package lists... 56%\r     \rReading package lists... 56%\r     \rReading package lists... 56%\r     \rReading package lists... 57%\r     \rReading package lists... 57%\r     \rReading package lists... 57%\r     \rReading package lists... 57%\r     \rReading package lists... 62%\r     \rReading package lists... 62%\r     \rReading package lists... 71%\r     \rReading package lists... 71%\r     \rReading package lists... 74%\r     \rReading package lists... 74%\r     \rReading package lists... 74%\r     \rReading package lists... 74%\r     \rReading package lists... 74%\r     \rReading package lists... 74%\r     \rReading package lists... 78%\r     \rReading package lists... 78%\r     \rReading package lists... 78%\r     \rReading package lists... 91%\r     \rReading package lists... 91%\r     \rReading package lists... 93%\r     \rReading package lists... 93%\r     \rReading package lists... 95%\r     \rReading package lists... 95%\r     \rReading package lists... 98%\r     \rReading package lists... 98%\r     \rReading package lists... 98%\r     \rReading package lists... 98%\r     \rReading package lists... 99%\r     \rReading package lists... 99%\r     \rReading package lists... 99%\r     \rReading package lists... 99%\r     \r\rReading package lists... Done    \n",
            "\rBuilding dependency tree... 0%\r   \rBuilding dependency tree... 0%\r   \rBuilding dependency tree... 50%\r  \rBuilding dependency tree... 50%\r  \rBuilding dependency tree... 72%\r  \r\rBuilding dependency tree... Done \n",
            "\rReading state information... 0%\r  \rReading state information... 0%\r  \r\rReading state information... Done\n",
            "\rFetched 0 B in 0s (0 B/s)                                                       "
          ]
        },
        {
          "output_type": "stream",
          "name": "stderr",
          "text": [
            "Tracing function \"install.packages\" in package \"utils\"\n",
            "\n"
          ]
        }
      ]
    },
    {
      "cell_type": "markdown",
      "source": [
        "## Carregando Pacotes Necessários"
      ],
      "metadata": {
        "id": "Mr8q9wfJs0tI"
      }
    },
    {
      "cell_type": "code",
      "source": [
        "library(tidyverse)\n",
        "library(readxl)\n",
        "library(speff2trial)"
      ],
      "metadata": {
        "id": "hbmIkHZdtJX9"
      },
      "execution_count": null,
      "outputs": []
    },
    {
      "cell_type": "markdown",
      "source": [
        "# Testes de Hipóteses"
      ],
      "metadata": {
        "id": "ehmpaiXleBHd"
      }
    },
    {
      "cell_type": "markdown",
      "source": [
        "## Conjunto de dados: ACTG175"
      ],
      "metadata": {
        "id": "zkqNhmFDZTn3"
      }
    },
    {
      "cell_type": "markdown",
      "source": [
        "O ACTG 175 foi um ensaio clínico randomizado para comparar a monoterapia com zidovudina ou didanosina com a terapia combinada de zidovudina e didanosina ou zidovudina e zalcitabina em adultos infectados com o vírus da imunodeficiência humana tipo I, cujas contagens de células T CD4 estavam entre 200 e 500 por milímetro cúbico.\n",
        "\n",
        "O estudo foi publicado no artigo:\n",
        "Hammer SM, et al. (1996), \"A trial comparing nucleoside monotherapy with combination therapy in HIV-infected adults with CD4 cell counts from 200 to 500 per cubic millimeter.\", New England Journal of Medicine, 335:1081–1090.\n",
        "https://pubmed.ncbi.nlm.nih.gov/8813038/\n",
        "\n",
        "Observação: posso escrever meu texto.\n",
        "\n",
        "Este conjunto de dados contém 2139 observações com as seguintes 27 variáveis:\n",
        "\n",
        "| Variável | Descrição |\n",
        "|----------|-----------|\n",
        "| `pidnum` | Número de identificação do paciente |\n",
        "| `age` | Idade em anos no início do estudo |\n",
        "| `wtkg` | Peso em kg no início do estudo |\n",
        "| `hemo` | Hemofilia (0 = não, 1 = sim) |\n",
        "| `homo` | Atividade homossexual (0 = não, 1 = sim) |\n",
        "| `drugs` | Histórico de uso de drogas intravenosas (0 = não, 1 = sim) |\n",
        "| `karnof` | Escore de Karnofsky (em uma escala de 0 a 100) |\n",
        "| `oprior` | Terapia antirretroviral não zidovudina antes do início do tratamento do estudo (0 = não, 1 = sim) |\n",
        "| `z30` | Uso de zidovudina nos 30 dias antes do início do tratamento (0 = não, 1 = sim) |\n",
        "| `zprior` | Uso de zidovudina antes do início do tratamento (0 = não, 1 = sim) |\n",
        "| `preanti` | Número de dias de terapia antirretroviral previamente recebida |\n",
        "| `race` | Raça (0 = branco, 1 = não-branco) |\n",
        "| `gender` | Gênero (0 = feminino, 1 = masculino) |\n",
        "| `str2` | Histórico de antirretroviral (0 = ingênuo, 1 = experiente) |\n",
        "| `strat` | Estratificação do histórico antirretroviral (1 = \"antirretroviral ingênuo\", 2 = \"> 1 mas ≤ 52 semanas de terapia antirretroviral prévia\", 3 = \"> 52 semanas\") |\n",
        "| `symptom` | Indicador sintomático (0 = assintomático, 1 = sintomático) |\n",
        "| `treat` | Indicador de tratamento (0 = apenas zidovudina, 1 = outras terapias) |\n",
        "| `offtrt` | Indicador de interrupção do tratamento antes de 96 ±5 semanas (0 = não, 1 = sim) |\n",
        "| `cd40` | Contagem de células T CD4 no início do estudo |\n",
        "| `cd420` | Contagem de células T CD4 em 20 ±5 semanas |\n",
        "| `cd496` | Contagem de células T CD4 em 96 ±5 semanas (NA se faltando) |\n",
        "| `r` | Contagem de células T CD4 em 96 ±5 semanas ausente (0 = ausente, 1 = observado) |\n",
        "| `cd80` | Contagem de células T CD8 no início do estudo |\n",
        "| `cd820` | Contagem de células T CD8 em 20 ±5 semanas |\n",
        "| `cens` | Indicador de observação do evento em dias |\n",
        "| `days` | Número de dias até a primeira ocorrência de: (i) uma queda de pelo menos 50 na contagem de células T CD4, (ii) um evento indicando progressão para AIDS ou (iii) morte |\n",
        "| `arms` | Grupo de tratamento (0 = zidovudina, 1 = zidovudina e didanosina, 2 = zidovudina e zalcitabina, 3 = didanosina) |"
      ],
      "metadata": {
        "id": "2yxYjMGiZWFQ"
      }
    },
    {
      "cell_type": "code",
      "source": [
        "data(ACTG175)\n",
        "ACTG175 %>% head()\n",
        "dim(ACTG175)"
      ],
      "metadata": {
        "colab": {
          "base_uri": "https://localhost:8080/",
          "height": 323
        },
        "id": "zDT_5ottaWLe",
        "outputId": "f2e306e5-622f-4081-bf87-15e9715d5c06"
      },
      "execution_count": null,
      "outputs": [
        {
          "output_type": "display_data",
          "data": {
            "text/html": [
              "<table class=\"dataframe\">\n",
              "<caption>A data.frame: 6 × 27</caption>\n",
              "<thead>\n",
              "\t<tr><th></th><th scope=col>pidnum</th><th scope=col>age</th><th scope=col>wtkg</th><th scope=col>hemo</th><th scope=col>homo</th><th scope=col>drugs</th><th scope=col>karnof</th><th scope=col>oprior</th><th scope=col>z30</th><th scope=col>zprior</th><th scope=col>⋯</th><th scope=col>offtrt</th><th scope=col>cd40</th><th scope=col>cd420</th><th scope=col>cd496</th><th scope=col>r</th><th scope=col>cd80</th><th scope=col>cd820</th><th scope=col>cens</th><th scope=col>days</th><th scope=col>arms</th></tr>\n",
              "\t<tr><th></th><th scope=col>&lt;int&gt;</th><th scope=col>&lt;int&gt;</th><th scope=col>&lt;dbl&gt;</th><th scope=col>&lt;int&gt;</th><th scope=col>&lt;int&gt;</th><th scope=col>&lt;int&gt;</th><th scope=col>&lt;int&gt;</th><th scope=col>&lt;int&gt;</th><th scope=col>&lt;int&gt;</th><th scope=col>&lt;int&gt;</th><th scope=col>⋯</th><th scope=col>&lt;int&gt;</th><th scope=col>&lt;int&gt;</th><th scope=col>&lt;int&gt;</th><th scope=col>&lt;int&gt;</th><th scope=col>&lt;int&gt;</th><th scope=col>&lt;int&gt;</th><th scope=col>&lt;int&gt;</th><th scope=col>&lt;int&gt;</th><th scope=col>&lt;int&gt;</th><th scope=col>&lt;int&gt;</th></tr>\n",
              "</thead>\n",
              "<tbody>\n",
              "\t<tr><th scope=row>1</th><td>10056</td><td>48</td><td>89.8128</td><td>0</td><td>0</td><td>0</td><td>100</td><td>0</td><td>0</td><td>1</td><td>⋯</td><td>0</td><td>422</td><td>477</td><td>660</td><td>1</td><td> 566</td><td> 324</td><td>0</td><td> 948</td><td>2</td></tr>\n",
              "\t<tr><th scope=row>2</th><td>10059</td><td>61</td><td>49.4424</td><td>0</td><td>0</td><td>0</td><td> 90</td><td>0</td><td>1</td><td>1</td><td>⋯</td><td>0</td><td>162</td><td>218</td><td> NA</td><td>0</td><td> 392</td><td> 564</td><td>1</td><td>1002</td><td>3</td></tr>\n",
              "\t<tr><th scope=row>3</th><td>10089</td><td>45</td><td>88.4520</td><td>0</td><td>1</td><td>1</td><td> 90</td><td>0</td><td>1</td><td>1</td><td>⋯</td><td>1</td><td>326</td><td>274</td><td>122</td><td>1</td><td>2063</td><td>1893</td><td>0</td><td> 961</td><td>3</td></tr>\n",
              "\t<tr><th scope=row>4</th><td>10093</td><td>47</td><td>85.2768</td><td>0</td><td>1</td><td>0</td><td>100</td><td>0</td><td>1</td><td>1</td><td>⋯</td><td>0</td><td>287</td><td>394</td><td> NA</td><td>0</td><td>1590</td><td> 966</td><td>0</td><td>1166</td><td>3</td></tr>\n",
              "\t<tr><th scope=row>5</th><td>10124</td><td>43</td><td>66.6792</td><td>0</td><td>1</td><td>0</td><td>100</td><td>0</td><td>1</td><td>1</td><td>⋯</td><td>0</td><td>504</td><td>353</td><td>660</td><td>1</td><td> 870</td><td> 782</td><td>0</td><td>1090</td><td>0</td></tr>\n",
              "\t<tr><th scope=row>6</th><td>10140</td><td>46</td><td>88.9056</td><td>0</td><td>1</td><td>1</td><td>100</td><td>0</td><td>1</td><td>1</td><td>⋯</td><td>0</td><td>235</td><td>339</td><td>264</td><td>1</td><td> 860</td><td>1060</td><td>0</td><td>1181</td><td>1</td></tr>\n",
              "</tbody>\n",
              "</table>\n"
            ],
            "text/markdown": "\nA data.frame: 6 × 27\n\n| <!--/--> | pidnum &lt;int&gt; | age &lt;int&gt; | wtkg &lt;dbl&gt; | hemo &lt;int&gt; | homo &lt;int&gt; | drugs &lt;int&gt; | karnof &lt;int&gt; | oprior &lt;int&gt; | z30 &lt;int&gt; | zprior &lt;int&gt; | ⋯ ⋯ | offtrt &lt;int&gt; | cd40 &lt;int&gt; | cd420 &lt;int&gt; | cd496 &lt;int&gt; | r &lt;int&gt; | cd80 &lt;int&gt; | cd820 &lt;int&gt; | cens &lt;int&gt; | days &lt;int&gt; | arms &lt;int&gt; |\n|---|---|---|---|---|---|---|---|---|---|---|---|---|---|---|---|---|---|---|---|---|---|\n| 1 | 10056 | 48 | 89.8128 | 0 | 0 | 0 | 100 | 0 | 0 | 1 | ⋯ | 0 | 422 | 477 | 660 | 1 |  566 |  324 | 0 |  948 | 2 |\n| 2 | 10059 | 61 | 49.4424 | 0 | 0 | 0 |  90 | 0 | 1 | 1 | ⋯ | 0 | 162 | 218 |  NA | 0 |  392 |  564 | 1 | 1002 | 3 |\n| 3 | 10089 | 45 | 88.4520 | 0 | 1 | 1 |  90 | 0 | 1 | 1 | ⋯ | 1 | 326 | 274 | 122 | 1 | 2063 | 1893 | 0 |  961 | 3 |\n| 4 | 10093 | 47 | 85.2768 | 0 | 1 | 0 | 100 | 0 | 1 | 1 | ⋯ | 0 | 287 | 394 |  NA | 0 | 1590 |  966 | 0 | 1166 | 3 |\n| 5 | 10124 | 43 | 66.6792 | 0 | 1 | 0 | 100 | 0 | 1 | 1 | ⋯ | 0 | 504 | 353 | 660 | 1 |  870 |  782 | 0 | 1090 | 0 |\n| 6 | 10140 | 46 | 88.9056 | 0 | 1 | 1 | 100 | 0 | 1 | 1 | ⋯ | 0 | 235 | 339 | 264 | 1 |  860 | 1060 | 0 | 1181 | 1 |\n\n",
            "text/latex": "A data.frame: 6 × 27\n\\begin{tabular}{r|lllllllllllllllllllll}\n  & pidnum & age & wtkg & hemo & homo & drugs & karnof & oprior & z30 & zprior & ⋯ & offtrt & cd40 & cd420 & cd496 & r & cd80 & cd820 & cens & days & arms\\\\\n  & <int> & <int> & <dbl> & <int> & <int> & <int> & <int> & <int> & <int> & <int> & ⋯ & <int> & <int> & <int> & <int> & <int> & <int> & <int> & <int> & <int> & <int>\\\\\n\\hline\n\t1 & 10056 & 48 & 89.8128 & 0 & 0 & 0 & 100 & 0 & 0 & 1 & ⋯ & 0 & 422 & 477 & 660 & 1 &  566 &  324 & 0 &  948 & 2\\\\\n\t2 & 10059 & 61 & 49.4424 & 0 & 0 & 0 &  90 & 0 & 1 & 1 & ⋯ & 0 & 162 & 218 &  NA & 0 &  392 &  564 & 1 & 1002 & 3\\\\\n\t3 & 10089 & 45 & 88.4520 & 0 & 1 & 1 &  90 & 0 & 1 & 1 & ⋯ & 1 & 326 & 274 & 122 & 1 & 2063 & 1893 & 0 &  961 & 3\\\\\n\t4 & 10093 & 47 & 85.2768 & 0 & 1 & 0 & 100 & 0 & 1 & 1 & ⋯ & 0 & 287 & 394 &  NA & 0 & 1590 &  966 & 0 & 1166 & 3\\\\\n\t5 & 10124 & 43 & 66.6792 & 0 & 1 & 0 & 100 & 0 & 1 & 1 & ⋯ & 0 & 504 & 353 & 660 & 1 &  870 &  782 & 0 & 1090 & 0\\\\\n\t6 & 10140 & 46 & 88.9056 & 0 & 1 & 1 & 100 & 0 & 1 & 1 & ⋯ & 0 & 235 & 339 & 264 & 1 &  860 & 1060 & 0 & 1181 & 1\\\\\n\\end{tabular}\n",
            "text/plain": [
              "  pidnum age wtkg    hemo homo drugs karnof oprior z30 zprior ⋯ offtrt cd40\n",
              "1 10056  48  89.8128 0    0    0     100    0      0   1      ⋯ 0      422 \n",
              "2 10059  61  49.4424 0    0    0      90    0      1   1      ⋯ 0      162 \n",
              "3 10089  45  88.4520 0    1    1      90    0      1   1      ⋯ 1      326 \n",
              "4 10093  47  85.2768 0    1    0     100    0      1   1      ⋯ 0      287 \n",
              "5 10124  43  66.6792 0    1    0     100    0      1   1      ⋯ 0      504 \n",
              "6 10140  46  88.9056 0    1    1     100    0      1   1      ⋯ 0      235 \n",
              "  cd420 cd496 r cd80 cd820 cens days arms\n",
              "1 477   660   1  566  324  0     948 2   \n",
              "2 218    NA   0  392  564  1    1002 3   \n",
              "3 274   122   1 2063 1893  0     961 3   \n",
              "4 394    NA   0 1590  966  0    1166 3   \n",
              "5 353   660   1  870  782  0    1090 0   \n",
              "6 339   264   1  860 1060  0    1181 1   "
            ]
          },
          "metadata": {}
        },
        {
          "output_type": "display_data",
          "data": {
            "text/html": [
              "<style>\n",
              ".list-inline {list-style: none; margin:0; padding: 0}\n",
              ".list-inline>li {display: inline-block}\n",
              ".list-inline>li:not(:last-child)::after {content: \"\\00b7\"; padding: 0 .5ex}\n",
              "</style>\n",
              "<ol class=list-inline><li>2139</li><li>27</li></ol>\n"
            ],
            "text/markdown": "1. 2139\n2. 27\n\n\n",
            "text/latex": "\\begin{enumerate*}\n\\item 2139\n\\item 27\n\\end{enumerate*}\n",
            "text/plain": [
              "[1] 2139   27"
            ]
          },
          "metadata": {}
        }
      ]
    },
    {
      "cell_type": "markdown",
      "source": [
        "## Teste de Hipótese para 1 Média"
      ],
      "metadata": {
        "id": "zcFbnf3ZbLzt"
      }
    },
    {
      "cell_type": "markdown",
      "source": [
        "**Objetivo**: Testar se a média da contagem de células T CD4 no início do estudo (variável cd40) é significativamente diferente de um valor de referência, como 350 células/mm³.\n",
        "\n",
        "1. Calcule a média e o desvio padrão da contagem de células T CD4 no início do estudo.\n",
        "2. Obtenha um intervalo de confiança de 95% para a contagem média de células T CB4.\n",
        "3. Formule as hipóteses:\n",
        "   - H0: A média da contagem de células T CD4 é 350.\n",
        "   - H1: A média da contagem de células T CD4 é diferente de 350.\n",
        "4. Realize o teste t para uma média.\n",
        "5. Interprete o valor-p e conclua se há evidência para rejeitar a hipótese nula."
      ],
      "metadata": {
        "id": "T96IEFQBbPUh"
      }
    },
    {
      "cell_type": "code",
      "source": [
        "ACTG175 %>% summarise(Media = mean(cd40),\n",
        "                      SD = sd(cd40),\n",
        "                      min = min(cd40),\n",
        "                      max = max(cd40))"
      ],
      "metadata": {
        "colab": {
          "base_uri": "https://localhost:8080/",
          "height": 129
        },
        "id": "wap5zOPAqbe0",
        "outputId": "2a69dbdc-bee2-43f6-d427-e79f0f379d21"
      },
      "execution_count": null,
      "outputs": [
        {
          "output_type": "display_data",
          "data": {
            "text/html": [
              "<table class=\"dataframe\">\n",
              "<caption>A data.frame: 1 × 4</caption>\n",
              "<thead>\n",
              "\t<tr><th scope=col>Media</th><th scope=col>SD</th><th scope=col>min</th><th scope=col>max</th></tr>\n",
              "\t<tr><th scope=col>&lt;dbl&gt;</th><th scope=col>&lt;dbl&gt;</th><th scope=col>&lt;int&gt;</th><th scope=col>&lt;int&gt;</th></tr>\n",
              "</thead>\n",
              "<tbody>\n",
              "\t<tr><td>350.5012</td><td>118.5739</td><td>0</td><td>1199</td></tr>\n",
              "</tbody>\n",
              "</table>\n"
            ],
            "text/markdown": "\nA data.frame: 1 × 4\n\n| Media &lt;dbl&gt; | SD &lt;dbl&gt; | min &lt;int&gt; | max &lt;int&gt; |\n|---|---|---|---|\n| 350.5012 | 118.5739 | 0 | 1199 |\n\n",
            "text/latex": "A data.frame: 1 × 4\n\\begin{tabular}{llll}\n Media & SD & min & max\\\\\n <dbl> & <dbl> & <int> & <int>\\\\\n\\hline\n\t 350.5012 & 118.5739 & 0 & 1199\\\\\n\\end{tabular}\n",
            "text/plain": [
              "  Media    SD       min max \n",
              "1 350.5012 118.5739 0   1199"
            ]
          },
          "metadata": {}
        }
      ]
    },
    {
      "cell_type": "code",
      "source": [
        "hist(ACTG175$cd40, col = \"lightblue\", las=1, probability = TRUE)\n",
        "\n",
        "boxplot(ACTG175$cd40, col = \"lightblue\", las= 1, horizontal = TRUE)"
      ],
      "metadata": {
        "colab": {
          "base_uri": "https://localhost:8080/"
        },
        "id": "uqFoiAurshV7",
        "outputId": "a3f453bf-f607-4ffd-99b5-3e1e24f4f9f4",
        "collapsed": true
      },
      "execution_count": null,
      "outputs": [
        {
          "output_type": "display_data",
          "data": {
            "text/plain": [
              "Plot with title “Histogram of ACTG175$cd40”"
            ],
            "image/png": "[encoded data removed]"
          },
          "metadata": {
            "image/png": {
              "width": 420,
              "height": 420
            }
          }
        },
        {
          "output_type": "display_data",
          "data": {
            "text/plain": [
              "plot without title"
            ],
            "image/png": "[encoded data removed]"
          },
          "metadata": {
            "image/png": {
              "width": 420,
              "height": 420
            }
          }
        }
      ]
    },
    {
      "cell_type": "code",
      "source": [
        "confint(lm(ACTG175$cd40 ~ 1))"
      ],
      "metadata": {
        "colab": {
          "base_uri": "https://localhost:8080/"
        },
        "id": "aQmJFBAMrBAP",
        "outputId": "66ae2b0b-740e-4dc5-a9a8-8fb266e5af50",
        "collapsed": true
      },
      "execution_count": null,
      "outputs": [
        {
          "output_type": "display_data",
          "data": {
            "text/html": [
              "<table class=\"dataframe\">\n",
              "<caption>A matrix: 1 × 2 of type dbl</caption>\n",
              "<thead>\n",
              "\t<tr><th></th><th scope=col>2.5 %</th><th scope=col>97.5 %</th></tr>\n",
              "</thead>\n",
              "<tbody>\n",
              "\t<tr><th scope=row>(Intercept)</th><td>345.4734</td><td>355.529</td></tr>\n",
              "</tbody>\n",
              "</table>\n"
            ],
            "text/markdown": "\nA matrix: 1 × 2 of type dbl\n\n| <!--/--> | 2.5 % | 97.5 % |\n|---|---|---|\n| (Intercept) | 345.4734 | 355.529 |\n\n",
            "text/latex": "A matrix: 1 × 2 of type dbl\n\\begin{tabular}{r|ll}\n  & 2.5 \\% & 97.5 \\%\\\\\n\\hline\n\t(Intercept) & 345.4734 & 355.529\\\\\n\\end{tabular}\n",
            "text/plain": [
              "            2.5 %    97.5 % \n",
              "(Intercept) 345.4734 355.529"
            ]
          },
          "metadata": {}
        }
      ]
    },
    {
      "cell_type": "markdown",
      "source": [
        "\\begin{aligned}\n",
        "IC(\\mu, 0.95) &= \\bar X \\pm \\text{margem erro} \\\\\n",
        "&= \\bar X \\pm 1.96 \\frac{S}{\\sqrt n} \\\\\n",
        "&= 350.5 \\pm 5 \\\\\n",
        "&= (345.5; 355.5)\n",
        "\\end{aligned}\n",
        "\n"
      ],
      "metadata": {
        "id": "UyfeyHgGmcIS"
      }
    },
    {
      "cell_type": "markdown",
      "source": [
        "Hipóteses:  \n",
        "H0: A média da contagem de células T CD4 é 350.  \n",
        "H1: A média da contagem de células T CD4 é diferente de 350.\n",
        "\n",
        "Em termos do parâmetro populacional  \n",
        "H0: $\\mu = 350$   \n",
        "H1: $\\mu \\neq 350$\n",
        "\n",
        "Estatística do teste:  \n",
        "$$t = \\frac{\\bar X - 350}{S/\\sqrt n} \\sim t_{n-1}$$"
      ],
      "metadata": {
        "id": "dEhEoiWDoFdk"
      }
    },
    {
      "cell_type": "code",
      "source": [
        "t.test(ACTG175$cd40, mu = 350, alternative = c(\"greater\"))"
      ],
      "metadata": {
        "colab": {
          "base_uri": "https://localhost:8080/",
          "height": 208
        },
        "id": "-BKTNUjkbOv4",
        "outputId": "928c57b5-a566-4b09-c0f2-7613ecfa0ca5"
      },
      "execution_count": null,
      "outputs": [
        {
          "output_type": "display_data",
          "data": {
            "text/plain": [
              "\n",
              "\tOne Sample t-test\n",
              "\n",
              "data:  ACTG175$cd40\n",
              "t = 0.19548, df = 2138, p-value = 0.4225\n",
              "alternative hypothesis: true mean is greater than 350\n",
              "95 percent confidence interval:\n",
              " 346.2823      Inf\n",
              "sample estimates:\n",
              "mean of x \n",
              " 350.5012 \n"
            ]
          },
          "metadata": {}
        }
      ]
    },
    {
      "cell_type": "markdown",
      "source": [
        "Estatística do teste:  \n",
        "$$t_{obs} = \\frac{350.5 - 350}{118.57/\\sqrt{2139}} = 0.195 \\sim t_{2138}$$\n",
        "\n",
        "p-valor = $2P(t_{2138} \\geq 0.195) = 0.845$\n",
        "\n",
        "**Conclusão**: Para um dado nível de significância $\\alpha = 0.05$:\n",
        "\n",
        "* Se p-valor $\\leq \\alpha$: Rejeita H0\n",
        "* Se p-valor $> \\alpha$: Não rejeita H0\n",
        "\n",
        "Portanto, como $p-valor=0.845$, não temos evidência nos dados para rejeitar a hipótese que a média da contagem de células T CD4 é $350/mm^3$."
      ],
      "metadata": {
        "id": "2dp2UUZhqGMy"
      }
    },
    {
      "cell_type": "markdown",
      "source": [
        "**Observação**:\n",
        "\n",
        "Pelo TLC:\n",
        "\n",
        "$\\bar X \\sim N(\\mu, \\sigma^2/n)$\n",
        "\n",
        "Ou padronizando:\n",
        "\n",
        "$\\displaystyle \\frac{\\bar X - \\mu}{\\sigma/\\sqrt{n}} \\sim N(0,1)$\n",
        "\n",
        "Mas quando a variância $\\sigma^2$ é desconhecida:\n",
        "\n",
        "$\\displaystyle \\frac{\\bar X - \\mu}{S/\\sqrt{n}} \\sim t_{n-1}$\n",
        "\n",
        "Quando o $n$ é muito grande, a distribuição t é muito próxima da distribuição Normal.\n"
      ],
      "metadata": {
        "id": "Sg73PZ29rWKN"
      }
    },
    {
      "cell_type": "markdown",
      "source": [
        "## Teste de Hipóteses para 1 Proporção"
      ],
      "metadata": {
        "id": "ZYFSKKAYboNz"
      }
    },
    {
      "cell_type": "markdown",
      "source": [
        "**Objetivo**: Testar se a proporção de pacientes com histórico de uso de drogas intravenosas (variável `drugs`) é significativamente diferente de 0,25.\n",
        "\n",
        "1. Calcule a proporção de pacientes com histórico de uso de drogas intravenosas.\n",
        "2. Formule as hipóteses:\n",
        "   - H0: A proporção de pacientes com histórico de uso de drogas intravenosas é 0,25.\n",
        "   - H1: A proporção de pacientes com histórico de uso de drogas intravenosas é diferente de 0,25.\n",
        "3. Use um teste de proporção\n",
        "4. Interprete o resultado e avalie a evidência para rejeitar a hipótese nula."
      ],
      "metadata": {
        "id": "0DqckLRDbrlo"
      }
    },
    {
      "cell_type": "markdown",
      "source": [
        "Hipóteses:  \n",
        "\n",
        "H0: A proporção de pacientes com histórico de uso de drogas intravenosas é 0,25\n",
        "\n",
        "H1: A proporção de pacientes com histórico de uso de drogas intravenosas é diferente de 0,25.\n",
        "\n",
        "\n",
        "Em termos do parâmetro populacional  \n",
        "H0: $p = 0.25$   \n",
        "H1: $p \\neq 0.25$\n",
        "\n",
        "Estatística do teste:  \n",
        "$$z = \\frac{\\hat{p} - p_0}{\\sqrt{p_0(1-p_0)/n}} \\stackrel{H_0}{\\sim} N(0,1)$$"
      ],
      "metadata": {
        "id": "zXLDHYr6y797"
      }
    },
    {
      "cell_type": "code",
      "source": [
        "# prop.test(x = sum(ACTG175$drugs == 1), n = length(ACTG175$drugs), p = 0.25, correct = FALSE)\n",
        "binom.test(x = sum(ACTG175$drugs == 1), n = length(ACTG175$drugs), p = 0.25)"
      ],
      "metadata": {
        "id": "5OD-8xyLb9eE",
        "colab": {
          "base_uri": "https://localhost:8080/",
          "height": 208
        },
        "outputId": "87f65e90-d9dd-4f48-e11f-ef97e5aee412"
      },
      "execution_count": null,
      "outputs": [
        {
          "output_type": "display_data",
          "data": {
            "text/plain": [
              "\n",
              "\tExact binomial test\n",
              "\n",
              "data:  sum(ACTG175$drugs == 1) and length(ACTG175$drugs)\n",
              "number of successes = 281, number of trials = 2139, p-value < 2.2e-16\n",
              "alternative hypothesis: true probability of success is not equal to 0.25\n",
              "95 percent confidence interval:\n",
              " 0.1173329 0.1464250\n",
              "sample estimates:\n",
              "probability of success \n",
              "             0.1313698 \n"
            ]
          },
          "metadata": {}
        }
      ]
    },
    {
      "cell_type": "markdown",
      "source": [
        "Proporção Amostral\n",
        "$\\hat p = 0.13$\n",
        "\n",
        "$IC(p, 0.95) = (0.117, 0.146)$\n",
        "\n",
        "Pelo teste de hipótese para uma proporção:\n",
        "\n",
        "p-valor $\\approx 0$\n",
        "\n",
        "Conclusão: Para um dado nível de significância  $\\alpha=0.05$ :\n",
        "\n",
        "Se p-valor  ≤𝛼 : Rejeita H0  \n",
        "Se p-valor  >𝛼 : Não rejeita H0  \n",
        "\n",
        "Portanto, como p-valor é extremamente pequeno (~0), temos evidências para rejeitar a hipótese nula, ou seja, a proporção é diferente de 0.25."
      ],
      "metadata": {
        "id": "1U2db7mC0ZgJ"
      }
    },
    {
      "cell_type": "markdown",
      "source": [
        "## Teste de Hipótese para 2 Médias"
      ],
      "metadata": {
        "id": "qCX_S6c2cFqP"
      }
    },
    {
      "cell_type": "markdown",
      "source": [
        "**Objetivo**: Comparar a média da contagem de células T CD4 entre pacientes sintomáticos e assintomáticos (variável `cd40` para a contagem inicial e `symptom` para o estado de sintomas).\n",
        "\n",
        "1. Divida os dados em dois grupos: sintomáticos e assintomáticos.\n",
        "2. Formule as hipóteses:\n",
        "   - H0: As médias das contagens de células T CD4 são iguais para os grupos sintomático e assintomático.\n",
        "   - H1: A médias da contagem de células T CD4 é maior para o grupo assintomático comparado ao grupo sintomático.\n",
        "\n",
        "   - H1: As médias das contagens de células T CD4 são diferentes entre os grupos.\n",
        "\n",
        "\n",
        "3. Realize o teste t para duas amostras independentes.\n",
        "4. Analise o valor-p e tire conclusões sobre a diferença entre as médias."
      ],
      "metadata": {
        "id": "OiPrtjZLcKR6"
      }
    },
    {
      "cell_type": "markdown",
      "source": [
        "Hipóteses:  \n",
        "H0: As médias das contagens de células T CD4 são iguais para os grupos assintomático e sintomático.\n",
        "\n",
        "H1: A médias da contagem de células T CD4 é maior para o grupo assintomático comparado ao grupo sintomático.\n",
        "\n",
        "\n",
        "Definimos:  \n",
        "Grupo 1 - Asintomáticos  \n",
        "Grupo 2 - Sintomáticos\n",
        "\n",
        "Em termos dos parâmetros populacionais    \n",
        "H0: $\\mu_1 \\leq \\mu_2$   \n",
        "H1: $\\mu_1 > \\mu_2$ (teste unilateral)\n",
        "\n",
        "Ou de forma equivalente:  \n",
        "H0: $\\mu_1 - \\mu_2 \\leq 0$    \n",
        "H1: $\\mu_1 - \\mu_2 > 0$"
      ],
      "metadata": {
        "id": "I48qz-c1-Lv_"
      }
    },
    {
      "cell_type": "code",
      "source": [
        "ACTG175 %>%  group_by(symptom) %>%  summarise(Media = mean(cd40), DP = sd(cd40), n=n())"
      ],
      "metadata": {
        "colab": {
          "base_uri": "https://localhost:8080/",
          "height": 160
        },
        "id": "7gEyeRvA969N",
        "outputId": "b3bf9006-f54d-47bb-caf6-74e0bc0b0ca1"
      },
      "execution_count": null,
      "outputs": [
        {
          "output_type": "display_data",
          "data": {
            "text/html": [
              "<table class=\"dataframe\">\n",
              "<caption>A tibble: 2 × 4</caption>\n",
              "<thead>\n",
              "\t<tr><th scope=col>symptom</th><th scope=col>Media</th><th scope=col>DP</th><th scope=col>n</th></tr>\n",
              "\t<tr><th scope=col>&lt;int&gt;</th><th scope=col>&lt;dbl&gt;</th><th scope=col>&lt;dbl&gt;</th><th scope=col>&lt;int&gt;</th></tr>\n",
              "</thead>\n",
              "<tbody>\n",
              "\t<tr><td>0</td><td>357.6037</td><td>119.4120</td><td>1769</td></tr>\n",
              "\t<tr><td>1</td><td>316.5432</td><td>108.3701</td><td> 370</td></tr>\n",
              "</tbody>\n",
              "</table>\n"
            ],
            "text/markdown": "\nA tibble: 2 × 4\n\n| symptom &lt;int&gt; | Media &lt;dbl&gt; | DP &lt;dbl&gt; | n &lt;int&gt; |\n|---|---|---|---|\n| 0 | 357.6037 | 119.4120 | 1769 |\n| 1 | 316.5432 | 108.3701 |  370 |\n\n",
            "text/latex": "A tibble: 2 × 4\n\\begin{tabular}{llll}\n symptom & Media & DP & n\\\\\n <int> & <dbl> & <dbl> & <int>\\\\\n\\hline\n\t 0 & 357.6037 & 119.4120 & 1769\\\\\n\t 1 & 316.5432 & 108.3701 &  370\\\\\n\\end{tabular}\n",
            "text/plain": [
              "  symptom Media    DP       n   \n",
              "1 0       357.6037 119.4120 1769\n",
              "2 1       316.5432 108.3701  370"
            ]
          },
          "metadata": {}
        }
      ]
    },
    {
      "cell_type": "code",
      "source": [
        "ACTG175 = ACTG175 %>% mutate(symptom = factor(symptom))\n",
        "ACTG175 %>% ggplot(aes(x = symptom, y = cd40, fill = symptom)) +\n",
        "  geom_boxplot(show.legend = FALSE) +\n",
        "    theme_bw()"
      ],
      "metadata": {
        "colab": {
          "base_uri": "https://localhost:8080/",
          "height": 437
        },
        "id": "8-PrscFEAAhl",
        "outputId": "4307f8bf-40a8-423b-ac92-e2178885a87c"
      },
      "execution_count": null,
      "outputs": [
        {
          "output_type": "display_data",
          "data": {
            "text/plain": [
              "plot without title"
            ],
            "image/png": "[encoded data removed]"
          },
          "metadata": {
            "image/png": {
              "width": 420,
              "height": 420
            }
          }
        }
      ]
    },
    {
      "cell_type": "code",
      "source": [
        "t.test(cd40 ~ symptom, data = ACTG175, alternative = \"greater\")"
      ],
      "metadata": {
        "id": "y7Y5x2j5cZCN",
        "colab": {
          "base_uri": "https://localhost:8080/",
          "height": 208
        },
        "outputId": "a10ae472-b7e6-4868-dc09-80411f2322bd"
      },
      "execution_count": null,
      "outputs": [
        {
          "output_type": "display_data",
          "data": {
            "text/plain": [
              "\n",
              "\tWelch Two Sample t-test\n",
              "\n",
              "data:  cd40 by symptom\n",
              "t = 6.5084, df = 572.51, p-value = 8.303e-11\n",
              "alternative hypothesis: true difference in means between group 0 and group 1 is greater than 0\n",
              "95 percent confidence interval:\n",
              " 30.66656      Inf\n",
              "sample estimates:\n",
              "mean in group 0 mean in group 1 \n",
              "       357.6037        316.5432 \n"
            ]
          },
          "metadata": {}
        }
      ]
    },
    {
      "cell_type": "markdown",
      "source": [
        "Estatística do Teste:\n",
        "\n",
        "$$t_{obs} = \\frac{\\bar{X_1} - \\bar{X_2}}{\\sqrt{\\frac{S_1^2}{n_1} + \\frac{S_2^2}{n_2}}} \\sim t_{q} = 6.508$$\n",
        "\n",
        "p-valor = $P(t_{572.4} \\geq 6.5084) \\approx 0$\n",
        "\n",
        "**Conclusão:** Rejeita H0, ou seja, temos evidência para acreditar que a média de células T CD4 é maior para o grupo de assintomáticos do que para os sintomáticos."
      ],
      "metadata": {
        "id": "2ga2XMgKB1UU"
      }
    },
    {
      "cell_type": "markdown",
      "source": [
        "Hipóteses:  \n",
        "H0: As médias das contagens de células T CD4 são iguais para os grupos assintomático e sintomático.\n",
        "\n",
        "H1: A médias da contagem de células T CD4 é diferente entre os grupos.\n",
        "\n",
        "\n",
        "Definimos:  \n",
        "Grupo 1 - Asintomáticos  \n",
        "Grupo 2 - Sintomáticos\n",
        "\n",
        "Em termos dos parâmetros populacionais    \n",
        "H0: $\\mu_1 = \\mu_2$   \n",
        "H1: $\\mu_1 \\neq \\mu_2$ (teste bilateral)\n",
        "\n",
        "Ou de forma equivalente:  \n",
        "H0: $\\mu_1 - \\mu_2 = 0$    \n",
        "H1: $\\mu_1 - \\mu_2 \\neq 0$"
      ],
      "metadata": {
        "id": "66N8hxcPDXjO"
      }
    },
    {
      "cell_type": "code",
      "source": [
        "## Assumindo variâncias iguais\n",
        "t.test(cd40 ~ symptom, data = ACTG175, var.equal = TRUE)\n",
        "\n",
        "## Assumindo variâncias diferentes\n",
        "t.test(cd40 ~ symptom, data = ACTG175, var.equal = FALSE)"
      ],
      "metadata": {
        "colab": {
          "base_uri": "https://localhost:8080/",
          "height": 399
        },
        "id": "a_nxWiAEDgGp",
        "outputId": "121560be-8067-4025-f871-037ee0923eae"
      },
      "execution_count": null,
      "outputs": [
        {
          "output_type": "display_data",
          "data": {
            "text/plain": [
              "\n",
              "\tTwo Sample t-test\n",
              "\n",
              "data:  cd40 by symptom\n",
              "t = 6.1087, df = 2137, p-value = 1.19e-09\n",
              "alternative hypothesis: true difference in means between group 0 and group 1 is not equal to 0\n",
              "95 percent confidence interval:\n",
              " 27.87895 54.24203\n",
              "sample estimates:\n",
              "mean in group 0 mean in group 1 \n",
              "       357.6037        316.5432 \n"
            ]
          },
          "metadata": {}
        },
        {
          "output_type": "display_data",
          "data": {
            "text/plain": [
              "\n",
              "\tWelch Two Sample t-test\n",
              "\n",
              "data:  cd40 by symptom\n",
              "t = 6.5084, df = 572.51, p-value = 1.661e-10\n",
              "alternative hypothesis: true difference in means between group 0 and group 1 is not equal to 0\n",
              "95 percent confidence interval:\n",
              " 28.66921 53.45177\n",
              "sample estimates:\n",
              "mean in group 0 mean in group 1 \n",
              "       357.6037        316.5432 \n"
            ]
          },
          "metadata": {}
        }
      ]
    },
    {
      "cell_type": "markdown",
      "source": [
        "## Teste de Hipótese para 2 Proporções"
      ],
      "metadata": {
        "id": "CC9aLvv_cbUb"
      }
    },
    {
      "cell_type": "markdown",
      "source": [
        "**Objetivo**: Comparar a proporção de pacientes com histórico de atividade homossexual entre os grupos de tratamento (variável `homo` para atividade homossexual e `treat` para tipo de tratamento).\n",
        "\n",
        "1. Calcule as proporções de pacientes com atividade homossexual em cada grupo de tratamento.\n",
        "2. Formule as hipóteses:\n",
        "   - H0: As proporções de atividade homossexual são iguais entre os grupos de tratamento.\n",
        "   - H1: As proporções de atividade homossexual são diferentes entre os grupos de tratamento.\n",
        "3. Use o teste para duas proporções.\n",
        "4. Avalie o valor-p e discuta as implicações do resultado para as proporções entre os grupos."
      ],
      "metadata": {
        "id": "2z1lVLV9cbEP"
      }
    },
    {
      "cell_type": "code",
      "source": [
        "prop.test(table(ACTG175$treat, ACTG175$homo))"
      ],
      "metadata": {
        "id": "SrKP4_L0cqDh",
        "colab": {
          "base_uri": "https://localhost:8080/",
          "height": 208
        },
        "outputId": "000e6b46-8b25-4cdf-a784-b3d84bb99da0"
      },
      "execution_count": null,
      "outputs": [
        {
          "output_type": "display_data",
          "data": {
            "text/plain": [
              "\n",
              "\t2-sample test for equality of proportions with continuity correction\n",
              "\n",
              "data:  table(ACTG175$treat, ACTG175$homo)\n",
              "X-squared = 1.1577, df = 1, p-value = 0.2819\n",
              "alternative hypothesis: two.sided\n",
              "95 percent confidence interval:\n",
              " -0.02134417  0.07479688\n",
              "sample estimates:\n",
              "   prop 1    prop 2 \n",
              "0.3590226 0.3322962 \n"
            ]
          },
          "metadata": {}
        }
      ]
    },
    {
      "cell_type": "markdown",
      "source": [
        "# ANOVA"
      ],
      "metadata": {
        "id": "LWN-qUIQsgSZ"
      }
    },
    {
      "cell_type": "markdown",
      "source": [
        "## Lendo o Arquivo de Dados"
      ],
      "metadata": {
        "id": "Anmmhv-ktUnY"
      }
    },
    {
      "cell_type": "code",
      "source": [
        "input = read_excel(\"covid19.xlsx\")\n",
        "\n",
        "# Dimensão dos dados\n",
        "input %>% dim()\n",
        "\n",
        "# Primeiras linhas dos dados\n",
        "input %>% head()"
      ],
      "metadata": {
        "colab": {
          "base_uri": "https://localhost:8080/",
          "height": 304
        },
        "id": "V6NQud2GtYAT",
        "outputId": "db4842d7-38ac-4838-8ea2-f3392845b09c"
      },
      "execution_count": null,
      "outputs": [
        {
          "output_type": "display_data",
          "data": {
            "text/html": [
              "<style>\n",
              ".list-inline {list-style: none; margin:0; padding: 0}\n",
              ".list-inline>li {display: inline-block}\n",
              ".list-inline>li:not(:last-child)::after {content: \"\\00b7\"; padding: 0 .5ex}\n",
              "</style>\n",
              "<ol class=list-inline><li>141</li><li>4</li></ol>\n"
            ],
            "text/markdown": "1. 141\n2. 4\n\n\n",
            "text/latex": "\\begin{enumerate*}\n\\item 141\n\\item 4\n\\end{enumerate*}\n",
            "text/plain": [
              "[1] 141   4"
            ]
          },
          "metadata": {}
        },
        {
          "output_type": "display_data",
          "data": {
            "text/html": [
              "<table class=\"dataframe\">\n",
              "<caption>A tibble: 6 × 4</caption>\n",
              "<thead>\n",
              "\t<tr><th scope=col>Label</th><th scope=col>Gene_Name</th><th scope=col>log2FC</th><th scope=col>Grupo</th></tr>\n",
              "\t<tr><th scope=col>&lt;chr&gt;</th><th scope=col>&lt;chr&gt;</th><th scope=col>&lt;dbl&gt;</th><th scope=col>&lt;chr&gt;</th></tr>\n",
              "</thead>\n",
              "<tbody>\n",
              "\t<tr><td>Kent_10h-IC19_10h</td><td>IFNB1 </td><td>-2.637805</td><td>Alpha/IC19</td></tr>\n",
              "\t<tr><td>Kent_10h-IC19_10h</td><td>CD274 </td><td>-2.327912</td><td>Alpha/IC19</td></tr>\n",
              "\t<tr><td>Kent_10h-IC19_10h</td><td>CXCL10</td><td>-2.089109</td><td>Alpha/IC19</td></tr>\n",
              "\t<tr><td>Kent_10h-IC19_10h</td><td>MX2   </td><td>-1.812727</td><td>Alpha/IC19</td></tr>\n",
              "\t<tr><td>Kent_10h-IC19_10h</td><td>USP18 </td><td>-1.795118</td><td>Alpha/IC19</td></tr>\n",
              "\t<tr><td>Kent_10h-IC19_10h</td><td>EPSTI1</td><td>-1.769586</td><td>Alpha/IC19</td></tr>\n",
              "</tbody>\n",
              "</table>\n"
            ],
            "text/markdown": "\nA tibble: 6 × 4\n\n| Label &lt;chr&gt; | Gene_Name &lt;chr&gt; | log2FC &lt;dbl&gt; | Grupo &lt;chr&gt; |\n|---|---|---|---|\n| Kent_10h-IC19_10h | IFNB1  | -2.637805 | Alpha/IC19 |\n| Kent_10h-IC19_10h | CD274  | -2.327912 | Alpha/IC19 |\n| Kent_10h-IC19_10h | CXCL10 | -2.089109 | Alpha/IC19 |\n| Kent_10h-IC19_10h | MX2    | -1.812727 | Alpha/IC19 |\n| Kent_10h-IC19_10h | USP18  | -1.795118 | Alpha/IC19 |\n| Kent_10h-IC19_10h | EPSTI1 | -1.769586 | Alpha/IC19 |\n\n",
            "text/latex": "A tibble: 6 × 4\n\\begin{tabular}{llll}\n Label & Gene\\_Name & log2FC & Grupo\\\\\n <chr> & <chr> & <dbl> & <chr>\\\\\n\\hline\n\t Kent\\_10h-IC19\\_10h & IFNB1  & -2.637805 & Alpha/IC19\\\\\n\t Kent\\_10h-IC19\\_10h & CD274  & -2.327912 & Alpha/IC19\\\\\n\t Kent\\_10h-IC19\\_10h & CXCL10 & -2.089109 & Alpha/IC19\\\\\n\t Kent\\_10h-IC19\\_10h & MX2    & -1.812727 & Alpha/IC19\\\\\n\t Kent\\_10h-IC19\\_10h & USP18  & -1.795118 & Alpha/IC19\\\\\n\t Kent\\_10h-IC19\\_10h & EPSTI1 & -1.769586 & Alpha/IC19\\\\\n\\end{tabular}\n",
            "text/plain": [
              "  Label             Gene_Name log2FC    Grupo     \n",
              "1 Kent_10h-IC19_10h IFNB1     -2.637805 Alpha/IC19\n",
              "2 Kent_10h-IC19_10h CD274     -2.327912 Alpha/IC19\n",
              "3 Kent_10h-IC19_10h CXCL10    -2.089109 Alpha/IC19\n",
              "4 Kent_10h-IC19_10h MX2       -1.812727 Alpha/IC19\n",
              "5 Kent_10h-IC19_10h USP18     -1.795118 Alpha/IC19\n",
              "6 Kent_10h-IC19_10h EPSTI1    -1.769586 Alpha/IC19"
            ]
          },
          "metadata": {}
        }
      ]
    },
    {
      "cell_type": "code",
      "source": [
        "table(input$Label)"
      ],
      "metadata": {
        "colab": {
          "base_uri": "https://localhost:8080/",
          "height": 71
        },
        "id": "JAL3agOu6w73",
        "outputId": "b7e52817-8c12-46e5-8993-47352fea5ef9"
      },
      "execution_count": null,
      "outputs": [
        {
          "output_type": "display_data",
          "data": {
            "text/plain": [
              "\n",
              " IC19_10h-VIC_10h Kent_10h-IC19_10h  Kent_10h-VIC_10h \n",
              "               47                47                47 "
            ]
          },
          "metadata": {}
        }
      ]
    },
    {
      "cell_type": "markdown",
      "source": [
        "Transformar a coluna `Grupo` em fator. Isso facilitará a análise que realizaremos."
      ],
      "metadata": {
        "id": "E9GvWXqHthOG"
      }
    },
    {
      "cell_type": "code",
      "source": [
        "input = input %>%\n",
        "  mutate(Grupo = as.factor(Grupo))\n",
        "\n",
        "input %>% head()"
      ],
      "metadata": {
        "colab": {
          "base_uri": "https://localhost:8080/",
          "height": 286
        },
        "id": "NGRzWsfhtka0",
        "outputId": "918d5830-2ae1-41b2-fb57-1957dd1f0a1f"
      },
      "execution_count": null,
      "outputs": [
        {
          "output_type": "display_data",
          "data": {
            "text/html": [
              "<table class=\"dataframe\">\n",
              "<caption>A tibble: 6 × 4</caption>\n",
              "<thead>\n",
              "\t<tr><th scope=col>Label</th><th scope=col>Gene_Name</th><th scope=col>log2FC</th><th scope=col>Grupo</th></tr>\n",
              "\t<tr><th scope=col>&lt;chr&gt;</th><th scope=col>&lt;chr&gt;</th><th scope=col>&lt;dbl&gt;</th><th scope=col>&lt;fct&gt;</th></tr>\n",
              "</thead>\n",
              "<tbody>\n",
              "\t<tr><td>Kent_10h-IC19_10h</td><td>IFNB1 </td><td>-2.637805</td><td>Alpha/IC19</td></tr>\n",
              "\t<tr><td>Kent_10h-IC19_10h</td><td>CD274 </td><td>-2.327912</td><td>Alpha/IC19</td></tr>\n",
              "\t<tr><td>Kent_10h-IC19_10h</td><td>CXCL10</td><td>-2.089109</td><td>Alpha/IC19</td></tr>\n",
              "\t<tr><td>Kent_10h-IC19_10h</td><td>MX2   </td><td>-1.812727</td><td>Alpha/IC19</td></tr>\n",
              "\t<tr><td>Kent_10h-IC19_10h</td><td>USP18 </td><td>-1.795118</td><td>Alpha/IC19</td></tr>\n",
              "\t<tr><td>Kent_10h-IC19_10h</td><td>EPSTI1</td><td>-1.769586</td><td>Alpha/IC19</td></tr>\n",
              "</tbody>\n",
              "</table>\n"
            ],
            "text/markdown": "\nA tibble: 6 × 4\n\n| Label &lt;chr&gt; | Gene_Name &lt;chr&gt; | log2FC &lt;dbl&gt; | Grupo &lt;fct&gt; |\n|---|---|---|---|\n| Kent_10h-IC19_10h | IFNB1  | -2.637805 | Alpha/IC19 |\n| Kent_10h-IC19_10h | CD274  | -2.327912 | Alpha/IC19 |\n| Kent_10h-IC19_10h | CXCL10 | -2.089109 | Alpha/IC19 |\n| Kent_10h-IC19_10h | MX2    | -1.812727 | Alpha/IC19 |\n| Kent_10h-IC19_10h | USP18  | -1.795118 | Alpha/IC19 |\n| Kent_10h-IC19_10h | EPSTI1 | -1.769586 | Alpha/IC19 |\n\n",
            "text/latex": "A tibble: 6 × 4\n\\begin{tabular}{llll}\n Label & Gene\\_Name & log2FC & Grupo\\\\\n <chr> & <chr> & <dbl> & <fct>\\\\\n\\hline\n\t Kent\\_10h-IC19\\_10h & IFNB1  & -2.637805 & Alpha/IC19\\\\\n\t Kent\\_10h-IC19\\_10h & CD274  & -2.327912 & Alpha/IC19\\\\\n\t Kent\\_10h-IC19\\_10h & CXCL10 & -2.089109 & Alpha/IC19\\\\\n\t Kent\\_10h-IC19\\_10h & MX2    & -1.812727 & Alpha/IC19\\\\\n\t Kent\\_10h-IC19\\_10h & USP18  & -1.795118 & Alpha/IC19\\\\\n\t Kent\\_10h-IC19\\_10h & EPSTI1 & -1.769586 & Alpha/IC19\\\\\n\\end{tabular}\n",
            "text/plain": [
              "  Label             Gene_Name log2FC    Grupo     \n",
              "1 Kent_10h-IC19_10h IFNB1     -2.637805 Alpha/IC19\n",
              "2 Kent_10h-IC19_10h CD274     -2.327912 Alpha/IC19\n",
              "3 Kent_10h-IC19_10h CXCL10    -2.089109 Alpha/IC19\n",
              "4 Kent_10h-IC19_10h MX2       -1.812727 Alpha/IC19\n",
              "5 Kent_10h-IC19_10h USP18     -1.795118 Alpha/IC19\n",
              "6 Kent_10h-IC19_10h EPSTI1    -1.769586 Alpha/IC19"
            ]
          },
          "metadata": {}
        }
      ]
    },
    {
      "cell_type": "markdown",
      "source": [
        "Vamos olhar as médias, desvios padrão e número de observações da variável de interesse (`log2FC`) em cada um dos grupos de interesse."
      ],
      "metadata": {
        "id": "E5cXU8STuBmY"
      }
    },
    {
      "cell_type": "code",
      "source": [
        "input %>%\n",
        "  group_by(Grupo) %>%\n",
        "  summarise(medias = mean(log2FC),\n",
        "            sd = sd(log2FC),\n",
        "            n = n())"
      ],
      "metadata": {
        "colab": {
          "base_uri": "https://localhost:8080/",
          "height": 192
        },
        "id": "yoXFBYYHuB-o",
        "outputId": "0ffff005-9f25-4bbc-891b-61dcee172ad3"
      },
      "execution_count": null,
      "outputs": [
        {
          "output_type": "display_data",
          "data": {
            "text/html": [
              "<table class=\"dataframe\">\n",
              "<caption>A tibble: 3 × 4</caption>\n",
              "<thead>\n",
              "\t<tr><th scope=col>Grupo</th><th scope=col>medias</th><th scope=col>sd</th><th scope=col>n</th></tr>\n",
              "\t<tr><th scope=col>&lt;fct&gt;</th><th scope=col>&lt;dbl&gt;</th><th scope=col>&lt;dbl&gt;</th><th scope=col>&lt;int&gt;</th></tr>\n",
              "</thead>\n",
              "<tbody>\n",
              "\t<tr><td>Alpha/IC19</td><td>-1.0088250</td><td>0.5705705</td><td>47</td></tr>\n",
              "\t<tr><td>Alpha/VIC </td><td>-0.4853362</td><td>0.4057140</td><td>47</td></tr>\n",
              "\t<tr><td>IC19/VIC  </td><td> 0.5211961</td><td>0.5186889</td><td>47</td></tr>\n",
              "</tbody>\n",
              "</table>\n"
            ],
            "text/markdown": "\nA tibble: 3 × 4\n\n| Grupo &lt;fct&gt; | medias &lt;dbl&gt; | sd &lt;dbl&gt; | n &lt;int&gt; |\n|---|---|---|---|\n| Alpha/IC19 | -1.0088250 | 0.5705705 | 47 |\n| Alpha/VIC  | -0.4853362 | 0.4057140 | 47 |\n| IC19/VIC   |  0.5211961 | 0.5186889 | 47 |\n\n",
            "text/latex": "A tibble: 3 × 4\n\\begin{tabular}{llll}\n Grupo & medias & sd & n\\\\\n <fct> & <dbl> & <dbl> & <int>\\\\\n\\hline\n\t Alpha/IC19 & -1.0088250 & 0.5705705 & 47\\\\\n\t Alpha/VIC  & -0.4853362 & 0.4057140 & 47\\\\\n\t IC19/VIC   &  0.5211961 & 0.5186889 & 47\\\\\n\\end{tabular}\n",
            "text/plain": [
              "  Grupo      medias     sd        n \n",
              "1 Alpha/IC19 -1.0088250 0.5705705 47\n",
              "2 Alpha/VIC  -0.4853362 0.4057140 47\n",
              "3 IC19/VIC    0.5211961 0.5186889 47"
            ]
          },
          "metadata": {}
        }
      ]
    },
    {
      "cell_type": "markdown",
      "source": [
        "Observe que, aparentemente, existe diferenças nos níveis de expressão (`log2FC`) entre os diferentes diferentes grupos de indivíduos. Note também que esta é uma **impressão** que temos ao observar o gráfico abaixo. Precisamos, então, buscar mecanismos que quantifiquem apropriadamente as evidências dessas **possíveis diferenças** entre os grupos. Para isso, utilizaremos o método estatístico ANOVA."
      ],
      "metadata": {
        "id": "qtTMqqwiuS48"
      }
    },
    {
      "cell_type": "code",
      "source": [
        "input %>%\n",
        "  ggplot(aes(x=Grupo, y=log2FC, fill=Grupo)) +\n",
        "  geom_boxplot(show.legend = FALSE) +\n",
        "  geom_jitter(width=0.2, alpha=0.5, show.legend = FALSE) +\n",
        "  theme_bw()"
      ],
      "metadata": {
        "colab": {
          "base_uri": "https://localhost:8080/",
          "height": 437
        },
        "id": "ZS2QAAHruTVX",
        "outputId": "add39c61-2dfd-43ea-ce00-4f26f568b137"
      },
      "execution_count": null,
      "outputs": [
        {
          "output_type": "display_data",
          "data": {
            "text/plain": [
              "plot without title"
            ],
            "image/png": "[encoded data removed]"
          },
          "metadata": {
            "image/png": {
              "width": 420,
              "height": 420
            }
          }
        }
      ]
    },
    {
      "cell_type": "markdown",
      "source": [
        "## Determinando a Variabilidade Total"
      ],
      "metadata": {
        "id": "9gUco5ceze7M"
      }
    },
    {
      "cell_type": "markdown",
      "source": [
        "Vamos começar quantificando quanto vale a variabilidade total da variável de interesse `log2FC`. Esta variabilidade **não é** a mesma coisa que variância (para ser preciso matematicamente, a variabilidade apresentada abaixo é exatamente o numerador do que conhecemos como variância).\n",
        "\n",
        "A definição de variabilidade utilizada aqui é a soma dos quadrados dos desvios de cada observação com respeito à média daquela variável.\n",
        "\n",
        "Vejamos um passo-a-passo de como construir estes desvios:"
      ],
      "metadata": {
        "id": "tcv4M60mx6Vu"
      }
    },
    {
      "cell_type": "code",
      "source": [
        "input %>%\n",
        "  mutate(media = mean(log2FC),\n",
        "         desvio = log2FC - media) %>%\n",
        "  head()"
      ],
      "metadata": {
        "colab": {
          "base_uri": "https://localhost:8080/",
          "height": 286
        },
        "id": "8V4_265CxJDD",
        "outputId": "fa94a67c-bb27-4d67-d952-876003d99d86"
      },
      "execution_count": null,
      "outputs": [
        {
          "output_type": "display_data",
          "data": {
            "text/html": [
              "<table class=\"dataframe\">\n",
              "<caption>A tibble: 6 × 6</caption>\n",
              "<thead>\n",
              "\t<tr><th scope=col>Label</th><th scope=col>Gene_Name</th><th scope=col>log2FC</th><th scope=col>Grupo</th><th scope=col>media</th><th scope=col>desvio</th></tr>\n",
              "\t<tr><th scope=col>&lt;chr&gt;</th><th scope=col>&lt;chr&gt;</th><th scope=col>&lt;dbl&gt;</th><th scope=col>&lt;fct&gt;</th><th scope=col>&lt;dbl&gt;</th><th scope=col>&lt;dbl&gt;</th></tr>\n",
              "</thead>\n",
              "<tbody>\n",
              "\t<tr><td>Kent_10h-IC19_10h</td><td>IFNB1 </td><td>-2.637805</td><td>Alpha/IC19</td><td>-0.3243217</td><td>-2.313484</td></tr>\n",
              "\t<tr><td>Kent_10h-IC19_10h</td><td>CD274 </td><td>-2.327912</td><td>Alpha/IC19</td><td>-0.3243217</td><td>-2.003590</td></tr>\n",
              "\t<tr><td>Kent_10h-IC19_10h</td><td>CXCL10</td><td>-2.089109</td><td>Alpha/IC19</td><td>-0.3243217</td><td>-1.764787</td></tr>\n",
              "\t<tr><td>Kent_10h-IC19_10h</td><td>MX2   </td><td>-1.812727</td><td>Alpha/IC19</td><td>-0.3243217</td><td>-1.488405</td></tr>\n",
              "\t<tr><td>Kent_10h-IC19_10h</td><td>USP18 </td><td>-1.795118</td><td>Alpha/IC19</td><td>-0.3243217</td><td>-1.470796</td></tr>\n",
              "\t<tr><td>Kent_10h-IC19_10h</td><td>EPSTI1</td><td>-1.769586</td><td>Alpha/IC19</td><td>-0.3243217</td><td>-1.445264</td></tr>\n",
              "</tbody>\n",
              "</table>\n"
            ],
            "text/markdown": "\nA tibble: 6 × 6\n\n| Label &lt;chr&gt; | Gene_Name &lt;chr&gt; | log2FC &lt;dbl&gt; | Grupo &lt;fct&gt; | media &lt;dbl&gt; | desvio &lt;dbl&gt; |\n|---|---|---|---|---|---|\n| Kent_10h-IC19_10h | IFNB1  | -2.637805 | Alpha/IC19 | -0.3243217 | -2.313484 |\n| Kent_10h-IC19_10h | CD274  | -2.327912 | Alpha/IC19 | -0.3243217 | -2.003590 |\n| Kent_10h-IC19_10h | CXCL10 | -2.089109 | Alpha/IC19 | -0.3243217 | -1.764787 |\n| Kent_10h-IC19_10h | MX2    | -1.812727 | Alpha/IC19 | -0.3243217 | -1.488405 |\n| Kent_10h-IC19_10h | USP18  | -1.795118 | Alpha/IC19 | -0.3243217 | -1.470796 |\n| Kent_10h-IC19_10h | EPSTI1 | -1.769586 | Alpha/IC19 | -0.3243217 | -1.445264 |\n\n",
            "text/latex": "A tibble: 6 × 6\n\\begin{tabular}{llllll}\n Label & Gene\\_Name & log2FC & Grupo & media & desvio\\\\\n <chr> & <chr> & <dbl> & <fct> & <dbl> & <dbl>\\\\\n\\hline\n\t Kent\\_10h-IC19\\_10h & IFNB1  & -2.637805 & Alpha/IC19 & -0.3243217 & -2.313484\\\\\n\t Kent\\_10h-IC19\\_10h & CD274  & -2.327912 & Alpha/IC19 & -0.3243217 & -2.003590\\\\\n\t Kent\\_10h-IC19\\_10h & CXCL10 & -2.089109 & Alpha/IC19 & -0.3243217 & -1.764787\\\\\n\t Kent\\_10h-IC19\\_10h & MX2    & -1.812727 & Alpha/IC19 & -0.3243217 & -1.488405\\\\\n\t Kent\\_10h-IC19\\_10h & USP18  & -1.795118 & Alpha/IC19 & -0.3243217 & -1.470796\\\\\n\t Kent\\_10h-IC19\\_10h & EPSTI1 & -1.769586 & Alpha/IC19 & -0.3243217 & -1.445264\\\\\n\\end{tabular}\n",
            "text/plain": [
              "  Label             Gene_Name log2FC    Grupo      media      desvio   \n",
              "1 Kent_10h-IC19_10h IFNB1     -2.637805 Alpha/IC19 -0.3243217 -2.313484\n",
              "2 Kent_10h-IC19_10h CD274     -2.327912 Alpha/IC19 -0.3243217 -2.003590\n",
              "3 Kent_10h-IC19_10h CXCL10    -2.089109 Alpha/IC19 -0.3243217 -1.764787\n",
              "4 Kent_10h-IC19_10h MX2       -1.812727 Alpha/IC19 -0.3243217 -1.488405\n",
              "5 Kent_10h-IC19_10h USP18     -1.795118 Alpha/IC19 -0.3243217 -1.470796\n",
              "6 Kent_10h-IC19_10h EPSTI1    -1.769586 Alpha/IC19 -0.3243217 -1.445264"
            ]
          },
          "metadata": {}
        }
      ]
    },
    {
      "cell_type": "markdown",
      "source": [
        "No código acima, criamos duas novas variáveis: `media` e `desvio`. A `media` nada mais é do que a média aritmética da variável `log2FC`. A variável `desvio` é simplesmente a diferença entre as colunas `log2FC` e `media`.\n",
        "\n",
        "Agora, para determinar a variabilidade total, precisamos apenas somar os quadrados de cada um dos desvios que calculamos acima.\n",
        "\n",
        "No código que segue, apenas para manter a clareza do que foi feito, repetiremos a criação das variáveis `media` e `desvio` e seguiremos com a determinação da variabilidade total."
      ],
      "metadata": {
        "id": "U53hLxs-yqZ-"
      }
    },
    {
      "cell_type": "code",
      "source": [
        "input %>%\n",
        "  mutate(media = mean(log2FC),\n",
        "         desvio = log2FC - media) %>%\n",
        "  summarise(variabilidade_total = sum(desvio^2))"
      ],
      "metadata": {
        "colab": {
          "base_uri": "https://localhost:8080/",
          "height": 129
        },
        "id": "gOu9tXBRzaT1",
        "outputId": "d77b40c8-9734-4778-d61f-531e7cb16df0"
      },
      "execution_count": null,
      "outputs": [
        {
          "output_type": "display_data",
          "data": {
            "text/html": [
              "<table class=\"dataframe\">\n",
              "<caption>A tibble: 1 × 1</caption>\n",
              "<thead>\n",
              "\t<tr><th scope=col>variabilidade_total</th></tr>\n",
              "\t<tr><th scope=col>&lt;dbl&gt;</th></tr>\n",
              "</thead>\n",
              "<tbody>\n",
              "\t<tr><td>91.76329</td></tr>\n",
              "</tbody>\n",
              "</table>\n"
            ],
            "text/markdown": "\nA tibble: 1 × 1\n\n| variabilidade_total &lt;dbl&gt; |\n|---|\n| 91.76329 |\n\n",
            "text/latex": "A tibble: 1 × 1\n\\begin{tabular}{l}\n variabilidade\\_total\\\\\n <dbl>\\\\\n\\hline\n\t 91.76329\\\\\n\\end{tabular}\n",
            "text/plain": [
              "  variabilidade_total\n",
              "1 91.76329           "
            ]
          },
          "metadata": {}
        }
      ]
    },
    {
      "cell_type": "markdown",
      "source": [
        "## Ajustando a ANOVA"
      ],
      "metadata": {
        "id": "Y5GC5usSzmAy"
      }
    },
    {
      "cell_type": "markdown",
      "source": [
        "A ANOVA, representada no software R como a função `aov()`, particiona a variabilidade total dos dados (supondo que não existam grupos de indivíduos) em duas partes:\n",
        "\n",
        "*   **Parte 1**: variabilidade devida à existência de grupos conhecidos (no nosso caso, os grupos descritos pela variável `Grupo`).\n",
        "*   **Parte 2**: variabilidade devida a fatores desconhecidos (diferentes dos grupos descritos anteriormente) e que denotamos como `Erro/Resíduo`.\n",
        "\n",
        "Abaixo, executamos uma ANOVA, solicitando que particione a variabilidade total da variável `log2FC` como função da variável `Grupo` e `Erro/Resíduo` (esta parte não precisa ser descrita na função, ela é feita automaticamente).\n",
        "\n"
      ],
      "metadata": {
        "id": "xG4WgG2cvG04"
      }
    },
    {
      "cell_type": "code",
      "source": [
        "#input = read_excel(\"covid19.xlsx\")\n",
        "fit = aov(log2FC ~ Grupo, data = input)\n",
        "tabela_anova = fit %>%\n",
        "                 broom::tidy()\n",
        "tabela_anova"
      ],
      "metadata": {
        "colab": {
          "base_uri": "https://localhost:8080/",
          "height": 161
        },
        "id": "tIMiQzMdvHKw",
        "outputId": "7951eba8-5a29-4618-82dd-26dfd2e04731"
      },
      "execution_count": null,
      "outputs": [
        {
          "output_type": "display_data",
          "data": {
            "text/html": [
              "<table class=\"dataframe\">\n",
              "<caption>A tibble: 2 × 6</caption>\n",
              "<thead>\n",
              "\t<tr><th scope=col>term</th><th scope=col>df</th><th scope=col>sumsq</th><th scope=col>meansq</th><th scope=col>statistic</th><th scope=col>p.value</th></tr>\n",
              "\t<tr><th scope=col>&lt;chr&gt;</th><th scope=col>&lt;dbl&gt;</th><th scope=col>&lt;dbl&gt;</th><th scope=col>&lt;dbl&gt;</th><th scope=col>&lt;dbl&gt;</th><th scope=col>&lt;dbl&gt;</th></tr>\n",
              "</thead>\n",
              "<tbody>\n",
              "\t<tr><td>Grupo    </td><td>  2</td><td>56.84042</td><td>28.4202116</td><td>112.3043</td><td>1.123111e-29</td></tr>\n",
              "\t<tr><td>Residuals</td><td>138</td><td>34.92287</td><td> 0.2530643</td><td>      NA</td><td>          NA</td></tr>\n",
              "</tbody>\n",
              "</table>\n"
            ],
            "text/markdown": "\nA tibble: 2 × 6\n\n| term &lt;chr&gt; | df &lt;dbl&gt; | sumsq &lt;dbl&gt; | meansq &lt;dbl&gt; | statistic &lt;dbl&gt; | p.value &lt;dbl&gt; |\n|---|---|---|---|---|---|\n| Grupo     |   2 | 56.84042 | 28.4202116 | 112.3043 | 1.123111e-29 |\n| Residuals | 138 | 34.92287 |  0.2530643 |       NA |           NA |\n\n",
            "text/latex": "A tibble: 2 × 6\n\\begin{tabular}{llllll}\n term & df & sumsq & meansq & statistic & p.value\\\\\n <chr> & <dbl> & <dbl> & <dbl> & <dbl> & <dbl>\\\\\n\\hline\n\t Grupo     &   2 & 56.84042 & 28.4202116 & 112.3043 & 1.123111e-29\\\\\n\t Residuals & 138 & 34.92287 &  0.2530643 &       NA &           NA\\\\\n\\end{tabular}\n",
            "text/plain": [
              "  term      df  sumsq    meansq     statistic p.value     \n",
              "1 Grupo       2 56.84042 28.4202116 112.3043  1.123111e-29\n",
              "2 Residuals 138 34.92287  0.2530643       NA            NA"
            ]
          },
          "metadata": {}
        }
      ]
    },
    {
      "cell_type": "markdown",
      "source": [
        "Observe como a soma da coluna `sumsq` coincide com a variabilidade total que calculamos anteriormente. Na verdade, isso não é uma coincidência, é uma identidade matemática."
      ],
      "metadata": {
        "id": "6h10zXSxwSY6"
      }
    },
    {
      "cell_type": "code",
      "source": [
        "tabela_anova %>%\n",
        "  summarise(variabilidade_total = sum(sumsq))"
      ],
      "metadata": {
        "colab": {
          "base_uri": "https://localhost:8080/",
          "height": 129
        },
        "id": "KYvntQiTz9nz",
        "outputId": "13d90f8a-4282-4510-c66f-f28e43279448"
      },
      "execution_count": null,
      "outputs": [
        {
          "output_type": "display_data",
          "data": {
            "text/html": [
              "<table class=\"dataframe\">\n",
              "<caption>A tibble: 1 × 1</caption>\n",
              "<thead>\n",
              "\t<tr><th scope=col>variabilidade_total</th></tr>\n",
              "\t<tr><th scope=col>&lt;dbl&gt;</th></tr>\n",
              "</thead>\n",
              "<tbody>\n",
              "\t<tr><td>91.76329</td></tr>\n",
              "</tbody>\n",
              "</table>\n"
            ],
            "text/markdown": "\nA tibble: 1 × 1\n\n| variabilidade_total &lt;dbl&gt; |\n|---|\n| 91.76329 |\n\n",
            "text/latex": "A tibble: 1 × 1\n\\begin{tabular}{l}\n variabilidade\\_total\\\\\n <dbl>\\\\\n\\hline\n\t 91.76329\\\\\n\\end{tabular}\n",
            "text/plain": [
              "  variabilidade_total\n",
              "1 91.76329           "
            ]
          },
          "metadata": {}
        }
      ]
    },
    {
      "cell_type": "markdown",
      "source": [
        "O que entendemos do resultado da ANOVA é que nossos dados possuem uma variabilidade total de, aproximadamente, 91.76 unidades. Destas 91.76, observamos que 56.84 são devidas à existência dos três grupos definidos pela variável `Grupo` de nossa tabela de dados. As outras 34.92 unidades são devidas a outros fatores **desconhecidos**, que neste momento chamaremos de erros ou resíduos.\n",
        "\n",
        "Agora, ao compararmos a variabilidade devida aos grupos (56.84) com a variabilidade residual (34.92), ficamos com a seguinte pergunta: **existem diferenças significativas entre os grupos apresentados?**\n",
        "\n",
        "Para quantificar as evidências, podemos verificar o p-valor associado à ANOVA (repetiremos a tabela de ANOVA para sua conveniência):"
      ],
      "metadata": {
        "id": "kq-Wyw6F0elc"
      }
    },
    {
      "cell_type": "code",
      "source": [
        "tabela_anova"
      ],
      "metadata": {
        "colab": {
          "base_uri": "https://localhost:8080/",
          "height": 161
        },
        "id": "L3ZIy9Cd1dWM",
        "outputId": "dee3a0ef-e251-43a3-e2d3-2d1cb5e5d448"
      },
      "execution_count": null,
      "outputs": [
        {
          "output_type": "display_data",
          "data": {
            "text/html": [
              "<table class=\"dataframe\">\n",
              "<caption>A tibble: 2 × 6</caption>\n",
              "<thead>\n",
              "\t<tr><th scope=col>term</th><th scope=col>df</th><th scope=col>sumsq</th><th scope=col>meansq</th><th scope=col>statistic</th><th scope=col>p.value</th></tr>\n",
              "\t<tr><th scope=col>&lt;chr&gt;</th><th scope=col>&lt;dbl&gt;</th><th scope=col>&lt;dbl&gt;</th><th scope=col>&lt;dbl&gt;</th><th scope=col>&lt;dbl&gt;</th><th scope=col>&lt;dbl&gt;</th></tr>\n",
              "</thead>\n",
              "<tbody>\n",
              "\t<tr><td>Grupo    </td><td>  2</td><td>56.84042</td><td>28.4202116</td><td>112.3043</td><td>1.123111e-29</td></tr>\n",
              "\t<tr><td>Residuals</td><td>138</td><td>34.92287</td><td> 0.2530643</td><td>      NA</td><td>          NA</td></tr>\n",
              "</tbody>\n",
              "</table>\n"
            ],
            "text/markdown": "\nA tibble: 2 × 6\n\n| term &lt;chr&gt; | df &lt;dbl&gt; | sumsq &lt;dbl&gt; | meansq &lt;dbl&gt; | statistic &lt;dbl&gt; | p.value &lt;dbl&gt; |\n|---|---|---|---|---|---|\n| Grupo     |   2 | 56.84042 | 28.4202116 | 112.3043 | 1.123111e-29 |\n| Residuals | 138 | 34.92287 |  0.2530643 |       NA |           NA |\n\n",
            "text/latex": "A tibble: 2 × 6\n\\begin{tabular}{llllll}\n term & df & sumsq & meansq & statistic & p.value\\\\\n <chr> & <dbl> & <dbl> & <dbl> & <dbl> & <dbl>\\\\\n\\hline\n\t Grupo     &   2 & 56.84042 & 28.4202116 & 112.3043 & 1.123111e-29\\\\\n\t Residuals & 138 & 34.92287 &  0.2530643 &       NA &           NA\\\\\n\\end{tabular}\n",
            "text/plain": [
              "  term      df  sumsq    meansq     statistic p.value     \n",
              "1 Grupo       2 56.84042 28.4202116 112.3043  1.123111e-29\n",
              "2 Residuals 138 34.92287  0.2530643       NA            NA"
            ]
          },
          "metadata": {}
        }
      ]
    },
    {
      "cell_type": "markdown",
      "source": [
        "O p-valor associado está representado em notação científica (1.123e-29) e pode ser um pouco difícil de ser compreendido. Precisamos lembrar que esta representação (para este valor específico) indica que temos 28 casas decimais iguais a zero antes do primeiro dígito 1 apresentado. Ou seja, o p-valor é:\n",
        "\n",
        "\\begin{equation}\n",
        "p = 0.00000000000000000000000000001123\n",
        "\\end{equation}\n",
        "\n",
        "Lembremos que a hipótese testada na ANOVA é **não existem diferenças entre os grupos apresentados** e comparemos também com a definição de p-valor para chegarmos à seguinte conclusão:\n",
        "\n",
        "**Se assumirmos que não existem diferenças entre os grupos apresentados, temos uma probabilidade extremamente pequena (1.123e-29) de obtermos estatísticas pelo menos tão extremas quanto às da nossa ANOVA. Portanto, temos evidências para rejeitar a hipótese de inexistência de diferenças entre os grupos.**"
      ],
      "metadata": {
        "id": "VlXCe8He1fWN"
      }
    },
    {
      "cell_type": "markdown",
      "source": [
        "## Onde estão as diferenças?"
      ],
      "metadata": {
        "id": "v18tNooh2_od"
      }
    },
    {
      "cell_type": "markdown",
      "source": [
        "Com a ANOVA realizada acima, identificamos que existe pelo menos uma diferença entre os três grupos testados. Observe que a ANOVA **não indica** qual grupo é diferente de qual. Ou seja, sabemos que existe alguma diferença entre `Alpha/IC19`, `Alpha/VIC` e `IC19/VIC`. Mas não sabemos se as diferença residem entre (`Alpha/IC19` vs. `Alpha/VIC`) ou (`Alpha/IC19` vs. `IC19/VIC`) ou (`Alpha/VIC` vs. `IC19/VIC`).\n",
        "\n",
        "Para buscar quais são as diferenças significativas nas comparações 2-a-2, precisamos realizar testes adicionais."
      ],
      "metadata": {
        "id": "38reZOqFyvDh"
      }
    },
    {
      "cell_type": "markdown",
      "source": [
        "### Testes 2-a-2 com Correção de Bonferroni"
      ],
      "metadata": {
        "id": "4QVRBCff0EM7"
      }
    },
    {
      "cell_type": "markdown",
      "source": [
        "Uma estratégia é utilizarmos testes-*t* para fazermos todas as comparações possíveis entre 2 grupos. Essencialmente, considerando que temos 3 grupos genéricos (A, B e C), esta estratégia realiza testes de hipótese para todas as combinações listadas abaixo:\n",
        "\n",
        "*  A vs. B\n",
        "*  A vs. C\n",
        "*  B vs. C\n",
        "\n",
        "Lembre-se que, em testes de hipótese, discutimos a existência de dois tipos de erro:\n",
        "\n",
        "*  Erro Tipo I ($\\alpha$): Rejeitar a hipótese nula, quando ela é verdadeira. No nosso exemplo, isso é equivalente a dizer que existe diferença entre dois grupos quando, na verdade, os dois grupos são iguais. Chamamos isso de **falso positivo**.\n",
        "*  Erro Tipo II ($\\beta$): Não rejeitar a hipótese nula, quando ela é falsa. No nosso exemplo, isso é equivalente a dizer que não há diferença entre dois grupos quando, na verdade, os dois grupos são diferentes. Chamamos isso de **falso negativo**.\n",
        "\n",
        "Observe que, quando realizamos 3 testes de hipóteses conjuntamente, a probabilidade do Erro Tipo I é inflada. Isto é, a probabilidade de falso positivo (ao testar 3 hipóteses conjuntamente) é a soma das seguintes probabilidades:\n",
        "\n",
        "1. Errar apenas o 1o. teste\n",
        "2. Errar apenas o 2o. teste\n",
        "3. Errar apenas o 3o. teste\n",
        "4. Errar o 1o. e o 2o. testes\n",
        "5. Errar o 1o. e o 3o. testes\n",
        "6. Errar o 2o. e o 3o. testes\n",
        "7. Errar o 1o., o 2o. e o 3o. testes\n",
        "\n",
        "Calcular todas essas probabilidades separadamente não é trivial. Mas observe que o que estamos calculando é a probabilidade de, **pelo menos**, 1 Erro Tipo I. No nosso exemplo de 3 testes de hipótese, observando a listagem acima, vemos que:\n",
        "\n",
        "* os casos 1-3 representam \"errar exatamente 1 teste\"\n",
        "* os casos 4-6 representam \"errar exatamente 2 testes\"\n",
        "* o caso 7 representa \"errar exatamente 3 testes\"\n",
        "\n",
        "Se definirmos que $E$ representa o número de erros (Erros Tipo I) que podemos cometer ao testarmos 3 hipóteses simultaneamente, observe que temos a seguinte identidade:\n",
        "\n",
        "\\begin{eqnarray*}\n",
        "P(E = 0) + P(E = 1) + P(E = 2) + P(E = 3) & = & 1 \\\\\n",
        "P(E = 0) + P(E \\geq 1) & = & 1 \\\\\n",
        "P(E \\geq 1) & = & 1 - P(E = 0).\n",
        "\\end{eqnarray*}\n",
        "\n",
        "Dessa maneira, notemos que para termos zero Erros Tipo I, precisamos tomar a decisão correta nos 3 testes realizados. Sabendo que a probabilidade do Erro Tipo I para um teste de hipótese é $\\alpha$, então a probabilidade de não cometer um Erro Tipo I é, consequentemente, $(1-\\alpha)$. Desta maneira, temos:\n",
        "\n",
        "\\begin{eqnarray*}\n",
        "P(E = 0) & = & (1 - \\alpha) \\times (1 - \\alpha) \\times (1 - \\alpha) \\\\\n",
        "& = & (1 - \\alpha)^3 \\\\\n",
        "P(E \\geq 1) & = & 1 - P(E = 0) \\\\\n",
        "& = & 1 - (1-\\alpha)^3\n",
        "\\end{eqnarray*}\n",
        "\n",
        "Neste longo exemplo, se assumirmos $\\alpha = 0.05$, então a probabilidade de pelo menos 1 Erro Tipo I (ao testarmos 3 hipóteses simultaneamente) seria 0.1426. Ou seja, o erro máximo inicialmente aceito era de 5%, mas depois de testar 3 hipóteses simultaneamente, ele aumenta para a casa de 14%."
      ],
      "metadata": {
        "id": "VImCZcT20OI9"
      }
    },
    {
      "cell_type": "code",
      "source": [
        "pairwise.t.test(input$log2FC,\n",
        "                input$Grupo,\n",
        "                \"bonferroni\")"
      ],
      "metadata": {
        "colab": {
          "base_uri": "https://localhost:8080/",
          "height": 191
        },
        "id": "hWVCeuz1yq7Q",
        "outputId": "792f30a7-51e6-45bc-f763-c901dc9ee0fa"
      },
      "execution_count": null,
      "outputs": [
        {
          "output_type": "display_data",
          "data": {
            "text/plain": [
              "\n",
              "\tPairwise comparisons using t tests with pooled SD \n",
              "\n",
              "data:  input$log2FC and input$Grupo \n",
              "\n",
              "          Alpha/IC19 Alpha/VIC\n",
              "Alpha/VIC 4.2e-06    -        \n",
              "IC19/VIC  < 2e-16    < 2e-16  \n",
              "\n",
              "P value adjustment method: bonferroni "
            ]
          },
          "metadata": {}
        }
      ]
    },
    {
      "cell_type": "code",
      "source": [
        "## Grupo A (Alpha/VIC) - Grupo B (IC19/VIC) - Grupo C (Alpha/IC19)\n",
        "4.2e-6 = 0.0000042 (Comparando Grupo A vs. Grupo C)\n",
        "< 2e-16 = 0.0000000000000002 (Grupo B vs. Grupo C)\n",
        "< 2e-16 = 0.0000000000000002 (Grupo A vs. Grupo B)"
      ],
      "metadata": {
        "id": "Rr1Su3wylsCt"
      },
      "execution_count": null,
      "outputs": []
    },
    {
      "cell_type": "code",
      "source": [
        "pairwise.t.test(input$log2FC,\n",
        "                input$Grupo,\n",
        "                \"bonferroni\")\n",
        "\n",
        "## Existe um pacote chamado multcomp\n",
        "## Métodos de comparação múltipla (no R)\n",
        "library(multcomp)\n",
        "K = rbind('A-B' = c(1, -1,  0),\n",
        "          'A-C' = c(1,  0, -1),\n",
        "          'B-C' = c(0,  1, -1))\n",
        "ht = glht(fit, linfct = mcp(Grupo = K))\n",
        "bonf = summary(ht, test = adjusted(\"bonferroni\"))\n",
        "confint(bonf)"
      ],
      "metadata": {
        "id": "KJVn5UHI19aa",
        "colab": {
          "base_uri": "https://localhost:8080/",
          "height": 957
        },
        "outputId": "337a02da-88dc-40f8-b0a7-457134250c9d"
      },
      "execution_count": null,
      "outputs": [
        {
          "output_type": "display_data",
          "data": {
            "text/plain": [
              "\n",
              "\tPairwise comparisons using t tests with pooled SD \n",
              "\n",
              "data:  input$log2FC and input$Grupo \n",
              "\n",
              "          Alpha/IC19 Alpha/VIC\n",
              "Alpha/VIC 4.2e-06    -        \n",
              "IC19/VIC  < 2e-16    < 2e-16  \n",
              "\n",
              "P value adjustment method: bonferroni "
            ]
          },
          "metadata": {}
        },
        {
          "output_type": "stream",
          "name": "stderr",
          "text": [
            "Loading required package: mvtnorm\n",
            "\n",
            "Loading required package: TH.data\n",
            "\n",
            "Loading required package: MASS\n",
            "\n",
            "\n",
            "Attaching package: ‘MASS’\n",
            "\n",
            "\n",
            "The following object is masked from ‘package:dplyr’:\n",
            "\n",
            "    select\n",
            "\n",
            "\n",
            "\n",
            "Attaching package: ‘TH.data’\n",
            "\n",
            "\n",
            "The following object is masked from ‘package:MASS’:\n",
            "\n",
            "    geyser\n",
            "\n",
            "\n"
          ]
        },
        {
          "output_type": "error",
          "ename": "ERROR",
          "evalue": "Error in mcp2matrix(model, linfct = linfct): Variable(s) ‘Grupo’ of class ‘character’ is/are not contained as a factor in ‘model’.\n",
          "traceback": [
            "Error in mcp2matrix(model, linfct = linfct): Variable(s) ‘Grupo’ of class ‘character’ is/are not contained as a factor in ‘model’.\nTraceback:\n",
            "1. glht.mcp(fit, linfct = mcp(Grupo = K))",
            "2. mcp2matrix(model, linfct = linfct)",
            "3. stop(\"Variable(s) \", sQuote(paste(nhypo[!checknm], collapse = \", \")), \n .     \" of class \", sQuote(paste(sapply(mf[nhypo[!checknm]], class), \n .         collapse = \", \")), \" is/are not contained as a factor in \", \n .     sQuote(\"model\"), \".\")",
            "4. .handleSimpleError(function (cnd) \n . {\n .     watcher$capture_plot_and_output()\n .     cnd <- sanitize_call(cnd)\n .     watcher$push(cnd)\n .     switch(on_error, continue = invokeRestart(\"eval_continue\"), \n .         stop = invokeRestart(\"eval_stop\"), error = invokeRestart(\"eval_error\", \n .             cnd))\n . }, \"Variable(s) ‘Grupo’ of class ‘character’ is/are not contained as a factor in ‘model’.\", \n .     base::quote(mcp2matrix(model, linfct = linfct)))"
          ]
        }
      ]
    }
  ]
}