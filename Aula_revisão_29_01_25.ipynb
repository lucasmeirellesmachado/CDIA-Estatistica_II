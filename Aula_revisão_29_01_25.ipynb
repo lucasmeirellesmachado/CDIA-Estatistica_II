{
  "nbformat": 4,
  "nbformat_minor": 0,
  "metadata": {
    "colab": {
      "provenance": [],
      "authorship_tag": "ABX9TyNKq/H37hO0828OI/z1XErl",
      "include_colab_link": true
    },
    "kernelspec": {
      "name": "python3",
      "display_name": "Python 3"
    },
    "language_info": {
      "name": "python"
    }
  },
  "cells": [
    {
      "cell_type": "markdown",
      "metadata": {
        "id": "view-in-github",
        "colab_type": "text"
      },
      "source": [
        "<a href=\"https://colab.research.google.com/github/lucasmeirellesmachado/Dados-googlecolab/blob/main/Aula_revis%C3%A3o_29_01_25.ipynb\" target=\"_parent\"><img src=\"https://colab.research.google.com/assets/colab-badge.svg\" alt=\"Open In Colab\"/></a>"
      ]
    },
    {
      "cell_type": "code",
      "execution_count": 2,
      "metadata": {
        "id": "PNzjgXlkCrfT"
      },
      "outputs": [],
      "source": [
        "import pandas as pd\n",
        "import matplotlib.pyplot as plt\n",
        "import seaborn as sns\n",
        "import numpy as np"
      ]
    },
    {
      "cell_type": "code",
      "source": [
        "base = pd.read_csv('https://raw.githubusercontent.com/lucasmeirellesmachado/Dados-googlecolab/refs/heads/main/Banco%20de%20Dados%20Laboratorio.csv')"
      ],
      "metadata": {
        "id": "-vHR0AmuhIgp"
      },
      "execution_count": 8,
      "outputs": []
    }
  ]
}